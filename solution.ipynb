{
 "cells": [
  {
   "cell_type": "markdown",
   "metadata": {},
   "source": [
    "# Evolving a Lunar Lander with differentiable Genetic Programming"
   ]
  },
  {
   "cell_type": "markdown",
   "metadata": {},
   "source": [
    "## Installation\n",
    "To install the required libraries run the command:"
   ]
  },
  {
   "cell_type": "code",
   "execution_count": 2,
   "metadata": {},
   "outputs": [
    {
     "name": "stdout",
     "output_type": "stream",
     "text": [
      "Looking in indexes: https://pypi.org/simple, https://pypi.ngc.nvidia.com\n",
      "Requirement already satisfied: gym==0.22.0 in /home/joe/anaconda3/lib/python3.8/site-packages (from -r requirements.txt (line 1)) (0.22.0)\n",
      "Requirement already satisfied: pygame==2.1.0 in /home/joe/anaconda3/lib/python3.8/site-packages (from -r requirements.txt (line 2)) (2.1.0)\n",
      "Requirement already satisfied: pyglet==1.5.21 in /home/joe/anaconda3/lib/python3.8/site-packages (from -r requirements.txt (line 3)) (1.5.21)\n",
      "Requirement already satisfied: matplotlib>=3.5.1 in /home/joe/anaconda3/lib/python3.8/site-packages (from -r requirements.txt (line 4)) (3.6.1)\n",
      "Requirement already satisfied: numpy>=1.21.0 in /home/joe/anaconda3/lib/python3.8/site-packages (from -r requirements.txt (line 5)) (1.23.5)\n",
      "Requirement already satisfied: scikit-learn>=1.0.2 in /home/joe/anaconda3/lib/python3.8/site-packages (from -r requirements.txt (line 6)) (1.2.2)\n",
      "Requirement already satisfied: sympy>=1.9 in /home/joe/anaconda3/lib/python3.8/site-packages (from -r requirements.txt (line 7)) (1.11.1)\n",
      "Requirement already satisfied: joblib>=1.1.0 in /home/joe/anaconda3/lib/python3.8/site-packages (from -r requirements.txt (line 8)) (1.2.0)\n",
      "Requirement already satisfied: gym-notices>=0.0.4 in /home/joe/anaconda3/lib/python3.8/site-packages (from gym==0.22.0->-r requirements.txt (line 1)) (0.0.8)\n",
      "Requirement already satisfied: importlib-metadata>=4.10.0 in /home/joe/anaconda3/lib/python3.8/site-packages (from gym==0.22.0->-r requirements.txt (line 1)) (4.11.2)\n",
      "Requirement already satisfied: cloudpickle>=1.2.0 in /home/joe/anaconda3/lib/python3.8/site-packages (from gym==0.22.0->-r requirements.txt (line 1)) (1.6.0)\n",
      "Requirement already satisfied: pyparsing>=2.2.1 in /home/joe/anaconda3/lib/python3.8/site-packages (from matplotlib>=3.5.1->-r requirements.txt (line 4)) (2.4.7)\n",
      "Requirement already satisfied: packaging>=20.0 in /home/joe/anaconda3/lib/python3.8/site-packages (from matplotlib>=3.5.1->-r requirements.txt (line 4)) (21.3)\n",
      "Requirement already satisfied: pillow>=6.2.0 in /home/joe/anaconda3/lib/python3.8/site-packages (from matplotlib>=3.5.1->-r requirements.txt (line 4)) (9.0.0)\n",
      "Requirement already satisfied: kiwisolver>=1.0.1 in /home/joe/anaconda3/lib/python3.8/site-packages (from matplotlib>=3.5.1->-r requirements.txt (line 4)) (1.3.0)\n",
      "Requirement already satisfied: cycler>=0.10 in /home/joe/anaconda3/lib/python3.8/site-packages (from matplotlib>=3.5.1->-r requirements.txt (line 4)) (0.10.0)\n",
      "Requirement already satisfied: fonttools>=4.22.0 in /home/joe/anaconda3/lib/python3.8/site-packages (from matplotlib>=3.5.1->-r requirements.txt (line 4)) (4.37.4)\n",
      "Requirement already satisfied: contourpy>=1.0.1 in /home/joe/anaconda3/lib/python3.8/site-packages (from matplotlib>=3.5.1->-r requirements.txt (line 4)) (1.0.5)\n",
      "Requirement already satisfied: python-dateutil>=2.7 in /home/joe/anaconda3/lib/python3.8/site-packages (from matplotlib>=3.5.1->-r requirements.txt (line 4)) (2.8.1)\n",
      "Requirement already satisfied: scipy>=1.3.2 in /home/joe/anaconda3/lib/python3.8/site-packages (from scikit-learn>=1.0.2->-r requirements.txt (line 6)) (1.5.2)\n",
      "Requirement already satisfied: threadpoolctl>=2.0.0 in /home/joe/.local/lib/python3.8/site-packages (from scikit-learn>=1.0.2->-r requirements.txt (line 6)) (2.1.0)\n",
      "Requirement already satisfied: mpmath>=0.19 in /home/joe/anaconda3/lib/python3.8/site-packages (from sympy>=1.9->-r requirements.txt (line 7)) (1.1.0)\n",
      "Requirement already satisfied: six in /home/joe/anaconda3/lib/python3.8/site-packages (from cycler>=0.10->matplotlib>=3.5.1->-r requirements.txt (line 4)) (1.15.0)\n",
      "Requirement already satisfied: zipp>=0.5 in /home/joe/anaconda3/lib/python3.8/site-packages (from importlib-metadata>=4.10.0->gym==0.22.0->-r requirements.txt (line 1)) (3.4.0)\n",
      "\n",
      "\u001b[1m[\u001b[0m\u001b[34;49mnotice\u001b[0m\u001b[1;39;49m]\u001b[0m\u001b[39;49m A new release of pip is available: \u001b[0m\u001b[31;49m23.0.1\u001b[0m\u001b[39;49m -> \u001b[0m\u001b[32;49m23.1.2\u001b[0m\n",
      "\u001b[1m[\u001b[0m\u001b[34;49mnotice\u001b[0m\u001b[1;39;49m]\u001b[0m\u001b[39;49m To update, run: \u001b[0m\u001b[32;49mpip install --upgrade pip\u001b[0m\n"
     ]
    }
   ],
   "source": [
    "!pip install -r requirements.txt"
   ]
  },
  {
   "cell_type": "markdown",
   "metadata": {},
   "source": [
    "## Imports\n",
    "Imports from the standard genepro-multi library are done here. Any adjustments (e.g. different operators) should be made in the notebook. For example:\n",
    "\n",
    "```\n",
    "class SmoothOperator(Node):\n",
    "  def __init__(self):\n",
    "    super(SmoothOperator,self).__init__()\n",
    "    self.arity = 1\n",
    "    self.symb = \"SmoothOperator\"\n",
    "\n",
    "  def _get_args_repr(self, args):\n",
    "    return self._get_typical_repr(args,'before')\n",
    "\n",
    "  def get_output(self, X):\n",
    "    c_outs = self._get_child_outputs(X)\n",
    "    return np.smoothOperation(c_outs[0])\n",
    "\n",
    "  def get_output_pt(self, X):\n",
    "    c_outs = self._get_child_outputs_pt(X)\n",
    "    return torch.smoothOperation(c_outs[0])\n",
    "```"
   ]
  },
  {
   "cell_type": "code",
   "execution_count": 149,
   "metadata": {},
   "outputs": [],
   "source": [
    "import gymnasium as gym\n",
    "\n",
    "from genepro.node_impl import *\n",
    "from genepro.evo import Evolution\n",
    "from genepro.node_impl import Constant\n",
    "\n",
    "import torch\n",
    "import torch.optim as optim\n",
    "\n",
    "import random\n",
    "import os\n",
    "import copy\n",
    "from collections import namedtuple, deque\n",
    "\n",
    "import matplotlib.pyplot as plt\n",
    "from matplotlib import animation"
   ]
  },
  {
   "cell_type": "markdown",
   "metadata": {},
   "source": [
    "## Reinforcement Learning Setup\n",
    "Here we first setup the Gymnasium environment. Please see https://gymnasium.farama.org/environments/box2d/lunar_lander/ for more information on the environment. \n",
    "\n",
    "Then a memory buffer is made. This is a buffer in which state transitions are stored. When the buffer reaches its maximum capacity old transitions are replaced by new ones.\n",
    "\n",
    "A frame buffer is initialised used to later store animation frames of the environment."
   ]
  },
  {
   "cell_type": "code",
   "execution_count": 150,
   "metadata": {},
   "outputs": [],
   "source": [
    "env = gym.make(\"LunarLander-v2\", render_mode=\"rgb_array\")"
   ]
  },
  {
   "cell_type": "code",
   "execution_count": 151,
   "metadata": {},
   "outputs": [],
   "source": [
    "Transition = namedtuple('Transition', ('state', 'action', 'next_state', 'reward'))\n",
    "\n",
    "class ReplayMemory(object):\n",
    "    def __init__(self, capacity):\n",
    "        self.memory = deque([], maxlen=capacity)\n",
    "\n",
    "    def push(self, *args):\n",
    "        \"\"\"Save a transition\"\"\"\n",
    "        self.memory.append(Transition(*args))\n",
    "\n",
    "    def sample(self, batch_size):\n",
    "        return random.sample(self.memory, batch_size)\n",
    "\n",
    "    def __len__(self):\n",
    "        return len(self.memory)\n",
    "\n",
    "    def __iadd__(self, other):\n",
    "      self.memory += other.memory\n",
    "      return self \n",
    "\n",
    "    def __add__(self, other):\n",
    "      self.memory = self.memory + other.memory \n",
    "      return self"
   ]
  },
  {
   "cell_type": "code",
   "execution_count": 152,
   "metadata": {},
   "outputs": [],
   "source": [
    "frames = []"
   ]
  },
  {
   "cell_type": "markdown",
   "metadata": {},
   "source": [
    "## Fitness Function\n",
    "\n",
    "Here you get to be creative. The default setup evaluates 5 episodes of 300 frames. Think of what action to pick and what fitness function to use. The Multi-tree takes an input of $n \\times d$ where $n$ is a batch of size 1."
   ]
  },
  {
   "cell_type": "code",
   "execution_count": 234,
   "metadata": {},
   "outputs": [],
   "source": [
    "def fitness_function_pt(multitree, num_episodes=5, episode_duration=300, render=False, ignore_done=False):\n",
    "    memory  = ReplayMemory(10000)\n",
    "    ep_rewards = []\n",
    "\n",
    "    for _ in range(num_episodes):\n",
    "        observation = env.reset()[0]\n",
    "        ep_reward   = 0\n",
    "\n",
    "        for _ in range(episode_duration):\n",
    "            if render:\n",
    "                frames.append(env.render())\n",
    "\n",
    "            input_sample = torch.from_numpy(observation.reshape(1, -1)).float()\n",
    "            action_scores = multitree.get_output_pt(input_sample)\n",
    "            action = torch.argmax(action_scores).item()\n",
    "\n",
    "            observation, reward, terminated, truncated, info = env.step(action)\n",
    "            ep_reward += reward\n",
    "\n",
    "            output_sample = torch.from_numpy(observation.reshape(1, -1)).float()\n",
    "            memory.push(input_sample,\n",
    "                        torch.tensor([[action]]),\n",
    "                        output_sample,\n",
    "                        torch.tensor([reward]))\n",
    "\n",
    "            if (terminated or truncated) and not ignore_done:\n",
    "                break\n",
    "\n",
    "        if terminated:\n",
    "            if observation[6] == 1 and observation[7] == 1:\n",
    "                ep_reward += 100  # landed\n",
    "            else:\n",
    "                ep_reward -= 100  # crashed\n",
    "\n",
    "        ep_rewards.append(ep_reward)\n",
    "\n",
    "    fitness = np.mean(ep_rewards)\n",
    "    return fitness, memory"
   ]
  },
  {
   "cell_type": "markdown",
   "metadata": {},
   "source": [
    "## Evolution Setup\n",
    "Here the leaf and internal nodes are defined. Think about the odds of sampling a constant in this default configurations. Also think about any operators that could be useful and add them here. \n",
    "\n",
    "Adjust the population size (multiple of 8 if you want to use the standard tournament selection), max generations and max tree size to taste. Be aware that each of these settings can increase the runtime."
   ]
  },
  {
   "cell_type": "code",
   "execution_count": 235,
   "metadata": {},
   "outputs": [],
   "source": [
    "num_features = env.observation_space.shape[0]\n",
    "leaf_nodes = [Feature(i) for i in range(num_features)]\n",
    "leaf_nodes = leaf_nodes + [Constant()] # Think about the probability of sampling a coefficient\n",
    "internal_nodes = [Plus(),Minus(),Times(),Div()] #Add your own operators here\n",
    "\n",
    "evo = Evolution(\n",
    "  fitness_function_pt, internal_nodes, leaf_nodes,\n",
    "  4,\n",
    "  pop_size=64,\n",
    "  max_gens=30,\n",
    "  max_tree_size=25,\n",
    "  n_jobs=8,\n",
    "  verbose=True)"
   ]
  },
  {
   "cell_type": "markdown",
   "metadata": {},
   "source": [
    "## Evolve\n",
    "Running this cell will use all the settings above as parameters"
   ]
  },
  {
   "cell_type": "code",
   "execution_count": 236,
   "metadata": {},
   "outputs": [
    {
     "name": "stdout",
     "output_type": "stream",
     "text": [
      "gen: 1,\tbest of gen fitness: 9.065,\tbest of gen size: 29\n",
      "gen: 2,\tbest of gen fitness: -31.901,\tbest of gen size: 27\n",
      "gen: 3,\tbest of gen fitness: -1.436,\tbest of gen size: 29\n",
      "gen: 4,\tbest of gen fitness: 54.435,\tbest of gen size: 23\n",
      "gen: 5,\tbest of gen fitness: 37.619,\tbest of gen size: 23\n",
      "gen: 6,\tbest of gen fitness: 57.329,\tbest of gen size: 23\n",
      "gen: 7,\tbest of gen fitness: 69.852,\tbest of gen size: 23\n",
      "gen: 8,\tbest of gen fitness: 53.860,\tbest of gen size: 23\n",
      "gen: 9,\tbest of gen fitness: 40.027,\tbest of gen size: 23\n",
      "gen: 10,\tbest of gen fitness: 49.178,\tbest of gen size: 23\n",
      "gen: 11,\tbest of gen fitness: 49.441,\tbest of gen size: 23\n",
      "gen: 12,\tbest of gen fitness: 32.573,\tbest of gen size: 23\n",
      "gen: 13,\tbest of gen fitness: 13.121,\tbest of gen size: 23\n",
      "gen: 14,\tbest of gen fitness: 44.201,\tbest of gen size: 23\n",
      "gen: 15,\tbest of gen fitness: 75.687,\tbest of gen size: 23\n",
      "gen: 16,\tbest of gen fitness: 61.170,\tbest of gen size: 23\n",
      "gen: 17,\tbest of gen fitness: 50.135,\tbest of gen size: 23\n",
      "gen: 18,\tbest of gen fitness: 51.031,\tbest of gen size: 23\n",
      "gen: 19,\tbest of gen fitness: 72.133,\tbest of gen size: 23\n",
      "gen: 20,\tbest of gen fitness: 76.756,\tbest of gen size: 23\n",
      "gen: 21,\tbest of gen fitness: 44.746,\tbest of gen size: 23\n",
      "gen: 22,\tbest of gen fitness: 115.487,\tbest of gen size: 23\n",
      "gen: 23,\tbest of gen fitness: 54.393,\tbest of gen size: 23\n",
      "gen: 24,\tbest of gen fitness: 70.206,\tbest of gen size: 23\n",
      "gen: 25,\tbest of gen fitness: 62.670,\tbest of gen size: 23\n",
      "gen: 26,\tbest of gen fitness: 46.457,\tbest of gen size: 23\n",
      "gen: 27,\tbest of gen fitness: 51.884,\tbest of gen size: 25\n",
      "gen: 28,\tbest of gen fitness: 58.672,\tbest of gen size: 23\n",
      "gen: 29,\tbest of gen fitness: 80.410,\tbest of gen size: 25\n",
      "gen: 30,\tbest of gen fitness: 82.723,\tbest of gen size: 23\n"
     ]
    }
   ],
   "source": [
    "evo.evolve()"
   ]
  },
  {
   "cell_type": "code",
   "execution_count": 237,
   "metadata": {},
   "outputs": [
    {
     "data": {
      "image/png": "[encoded data removed]",
      "text/plain": [
       "<Figure size 1000x500 with 1 Axes>"
      ]
     },
     "metadata": {},
     "output_type": "display_data"
    }
   ],
   "source": [
    "# Extract best fitness per generation\n",
    "best_fitnesses = [ind.fitness for ind in evo.best_of_gens]\n",
    "\n",
    "# Plot\n",
    "plt.figure(figsize=(10, 5))\n",
    "plt.plot(best_fitnesses, marker='o', linestyle='-', color='purple')\n",
    "plt.title('Best Fitness per Generation')\n",
    "plt.xlabel('Generation')\n",
    "plt.ylabel('Best Fitness')\n",
    "plt.grid(True)\n",
    "plt.tight_layout()\n",
    "plt.show()"
   ]
  },
  {
   "cell_type": "markdown",
   "metadata": {},
   "source": [
    "# Test"
   ]
  },
  {
   "cell_type": "code",
   "execution_count": 240,
   "metadata": {},
   "outputs": [
    {
     "name": "stdout",
     "output_type": "stream",
     "text": [
      "['(((x_1+-4.770011419242939)-(4.268014430999756*x_2))*(((x_5-x_5)/((x_6/x_1)+(x_1/x_0)))/(x_7/x_3)))', '(((x_5*x_1)-(x_5*(-3.7071890830993652-x_5)))*(x_2-(4.935708522796631/x_6)))', '(((x_3-(x_1*x_6))/(x_3+x_1))+((-2.4191055297851562+x_3)+((x_7*x_6)/-2.3678801100312166)))', 'x_5']\n",
      "-538.5137174307849\n"
     ]
    }
   ],
   "source": [
    "def get_test_score(tree):\n",
    "    rewards = []\n",
    "\n",
    "    for i in range(10):\n",
    "      # get initial state\n",
    "      observation = env.reset(seed=i)\n",
    "      observation = observation[0]\n",
    "\n",
    "      for _ in range(500):    \n",
    "        # build up the input sample for GP\n",
    "        input_sample = torch.from_numpy(observation.reshape((1,-1))).float()\n",
    "        # get output (squeezing because it is encapsulated in an array)\n",
    "        output = tree.get_output_pt(input_sample)\n",
    "        action = torch.argmax(output)# What goes here?\n",
    "        observation, reward, terminated, truncated, info = env.step(action.item())\n",
    "        rewards.append(reward)\n",
    "\n",
    "\n",
    "        output_sample = torch.from_numpy(observation.reshape((1,-1))).float()\n",
    "        if (terminated or truncated):\n",
    "            break\n",
    "\n",
    "    fitness = np.sum(rewards)\n",
    "    \n",
    "    return fitness\n",
    "\n",
    "best = evo.best_of_gens[-1]\n",
    "\n",
    "print(best.get_readable_repr())\n",
    "print(get_test_score(best))"
   ]
  },
  {
   "cell_type": "markdown",
   "metadata": {},
   "source": [
    "## Make an animation\n",
    "Here the best evolved individual is selected and one episode is rendered. Make sure to save your lunar landers over time to track progress and make comparisons."
   ]
  },
  {
   "cell_type": "code",
   "execution_count": 241,
   "metadata": {},
   "outputs": [
    {
     "name": "stderr",
     "output_type": "stream",
     "text": [
      "MovieWriter imagemagick unavailable; using Pillow instead.\n"
     ]
    },
    {
     "data": {
      "image/png": "[encoded data removed]",
      "text/plain": [
       "<Figure size 600x400 with 1 Axes>"
      ]
     },
     "metadata": {},
     "output_type": "display_data"
    }
   ],
   "source": [
    "frames = []\n",
    "\n",
    "# gist to save gif from https://gist.github.com/botforge/64cbb71780e6208172bbf03cd9293553\n",
    "def save_frames_as_gif(frames, path='./', filename='evolved_lander.gif'):\n",
    "  plt.figure(figsize=(frames[0].shape[1] / 72.0, frames[0].shape[0] / 72.0), dpi=72)\n",
    "  patch = plt.imshow(frames[0])\n",
    "  plt.axis('off')\n",
    "  def animate(i):\n",
    "      patch.set_data(frames[i])\n",
    "  anim = animation.FuncAnimation(plt.gcf(), animate, frames = len(frames), interval=50)\n",
    "  anim.save(path + filename, writer='imagemagick', fps=60)\n",
    "\n",
    "frames = []\n",
    "fitness_function_pt(best, num_episodes=1, episode_duration=500, render=True, ignore_done=False)\n",
    "env.close()\n",
    "save_frames_as_gif(frames)"
   ]
  },
  {
   "cell_type": "markdown",
   "metadata": {},
   "source": [
    "## Play animation"
   ]
  },
  {
   "cell_type": "markdown",
   "metadata": {},
   "source": [
    "<img src=\"evolved_lander.gif\" width=\"750\">"
   ]
  },
  {
   "cell_type": "markdown",
   "metadata": {},
   "source": [
    "## Optimisation\n",
    "The coefficients in the multi-tree aren't optimised. Here Q-learning (taken from https://pytorch.org/tutorials/intermediate/reinforcement_q_learning.html) is used to optimise the weights further. Incorporate coefficient optimisation in training your agent(s). Coefficient Optimisation can be expensive. Think about how often you want to optimise, when, which individuals etc."
   ]
  },
  {
   "cell_type": "code",
   "execution_count": 223,
   "metadata": {},
   "outputs": [
    {
     "name": "stdout",
     "output_type": "stream",
     "text": [
      "['((x_3+(-1.006622602892466-3.196778528033372))-2.571929584383294)', '((x_7*x_1)-(4.489174576256718+(((((x_3*-3.518925189971924)*x_3)+(-4.2731547355651855*x_3))-(((3.653233405477529--3.9925787448883057)+x_7)*(x_1-x_4)))-x_6)))', '((((x_4/x_1)*(x_3-x_0))*(x_5*x_7))+((x_5/x_3)/x_1))', '((((x_2/x_0)-(x_0-x_2))+((x_7/(-1.613997220993042-x_3))/((x_6-(x_6+x_7))+((x_2-x_3)-(3.574603073024452*x_6)))))+(((x_5/x_6)/(x_6+x_1))+(x_2-x_3)))']\n",
      "-955.5022231901899\n"
     ]
    }
   ],
   "source": [
    "batch_size = 128\n",
    "GAMMA = 0.99\n",
    "\n",
    "constants = best.get_subtrees_consts()\n",
    "\n",
    "if len(constants)>0:\n",
    "  optimizer = optim.AdamW(constants, lr=1e-3, amsgrad=True)\n",
    "\n",
    "for _ in range(500):\n",
    "\n",
    "  if len(constants)>0 and len(evo.memory)>batch_size:\n",
    "    target_tree = copy.deepcopy(best)\n",
    "\n",
    "    transitions = evo.memory.sample(batch_size)\n",
    "    batch = Transition(*zip(*transitions))\n",
    "    \n",
    "    non_final_mask = torch.tensor(tuple(map(lambda s: s is not None,\n",
    "                                        batch.next_state)), dtype=torch.bool)\n",
    "\n",
    "    non_final_next_states = torch.cat([s for s in batch.next_state\n",
    "                                               if s is not None])\n",
    "    state_batch = torch.cat(batch.state)\n",
    "    action_batch = torch.cat(batch.action)\n",
    "    reward_batch = torch.cat(batch.reward)\n",
    "\n",
    "    #state_action_values = best.get_output_pt(state_batch).gather(1, action_batch)\n",
    "    state_action_values = best.get_output_pt(state_batch).gather(1, action_batch.unsqueeze(1))\n",
    "    next_state_values = torch.zeros(batch_size, dtype=torch.float)\n",
    "    with torch.no_grad():\n",
    "      next_state_values[non_final_mask] = target_tree.get_output_pt(non_final_next_states).max(1)[0].float()\n",
    "\n",
    "    expected_state_action_values = (next_state_values * GAMMA) + reward_batch\n",
    "    \n",
    "    criterion = nn.SmoothL1Loss()\n",
    "    loss = criterion(state_action_values, expected_state_action_values.unsqueeze(1))\n",
    "   \n",
    "    # Optimize the model\n",
    "    optimizer.zero_grad()\n",
    "    loss.backward()\n",
    "    torch.nn.utils.clip_grad_value_(constants, 100)\n",
    "    optimizer.step()\n",
    "\n",
    "print(best.get_readable_repr())\n",
    "print(get_test_score(best))"
   ]
  },
  {
   "cell_type": "code",
   "execution_count": 224,
   "metadata": {},
   "outputs": [
    {
     "name": "stderr",
     "output_type": "stream",
     "text": [
      "MovieWriter imagemagick unavailable; using Pillow instead.\n"
     ]
    },
    {
     "data": {
      "image/png": "[encoded data removed]",
      "text/plain": [
       "<Figure size 600x400 with 1 Axes>"
      ]
     },
     "metadata": {},
     "output_type": "display_data"
    }
   ],
   "source": [
    "frames = []\n",
    "fitness_function_pt(best, num_episodes=1, episode_duration=500, render=True, ignore_done=False)\n",
    "env.close()\n",
    "save_frames_as_gif(frames, filename='evolved_lander_RL.gif')"
   ]
  },
  {
   "cell_type": "markdown",
   "metadata": {},
   "source": [
    "<img src=\"evolved_lander_RL.gif\" width=\"750\">"
   ]
  }
 ],
 "metadata": {
  "kernelspec": {
   "display_name": "Python 3 (ipykernel)",
   "language": "python",
   "name": "python3"
  },
  "language_info": {
   "codemirror_mode": {
    "name": "ipython",
    "version": 3
   },
   "file_extension": ".py",
   "mimetype": "text/x-python",
   "name": "python",
   "nbconvert_exporter": "python",
   "pygments_lexer": "ipython3",
   "version": "3.10.12"
  }
 },
 "nbformat": 4,
 "nbformat_minor": 4
}
