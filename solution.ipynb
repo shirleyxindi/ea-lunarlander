{
 "cells": [
  {
   "cell_type": "markdown",
   "metadata": {},
   "source": [
    "# Evolving a Lunar Lander with differentiable Genetic Programming"
   ]
  },
  {
   "cell_type": "markdown",
   "metadata": {},
   "source": [
    "## Installation\n",
    "To install the required libraries run the command:"
   ]
  },
  {
   "cell_type": "code",
   "execution_count": 2,
   "metadata": {},
   "outputs": [
    {
     "name": "stdout",
     "output_type": "stream",
     "text": [
      "Requirement already satisfied: pygame==2.1.0 in c:\\users\\shirl\\documents\\studie\\2024-2025\\evolutionary algorithms\\assignment 2\\ea-lunarlander\\.venv\\lib\\site-packages (from -r requirements.txt (line 1)) (2.1.0)\n",
      "Requirement already satisfied: pyglet==1.5.21 in c:\\users\\shirl\\documents\\studie\\2024-2025\\evolutionary algorithms\\assignment 2\\ea-lunarlander\\.venv\\lib\\site-packages (from -r requirements.txt (line 2)) (1.5.21)\n",
      "Requirement already satisfied: matplotlib in c:\\users\\shirl\\documents\\studie\\2024-2025\\evolutionary algorithms\\assignment 2\\ea-lunarlander\\.venv\\lib\\site-packages (from -r requirements.txt (line 3)) (3.7.5)\n",
      "Requirement already satisfied: numpy in c:\\users\\shirl\\documents\\studie\\2024-2025\\evolutionary algorithms\\assignment 2\\ea-lunarlander\\.venv\\lib\\site-packages (from -r requirements.txt (line 4)) (1.24.4)\n",
      "Requirement already satisfied: scikit-learn in c:\\users\\shirl\\documents\\studie\\2024-2025\\evolutionary algorithms\\assignment 2\\ea-lunarlander\\.venv\\lib\\site-packages (from -r requirements.txt (line 5)) (1.3.2)\n",
      "Requirement already satisfied: sympy>=1.9 in c:\\users\\shirl\\documents\\studie\\2024-2025\\evolutionary algorithms\\assignment 2\\ea-lunarlander\\.venv\\lib\\site-packages (from -r requirements.txt (line 6)) (1.13.3)\n",
      "Requirement already satisfied: joblib>=1.1.0 in c:\\users\\shirl\\documents\\studie\\2024-2025\\evolutionary algorithms\\assignment 2\\ea-lunarlander\\.venv\\lib\\site-packages (from -r requirements.txt (line 7)) (1.4.2)\n",
      "Requirement already satisfied: torch in c:\\users\\shirl\\documents\\studie\\2024-2025\\evolutionary algorithms\\assignment 2\\ea-lunarlander\\.venv\\lib\\site-packages (from -r requirements.txt (line 8)) (2.4.1)\n",
      "Requirement already satisfied: notebook in c:\\users\\shirl\\documents\\studie\\2024-2025\\evolutionary algorithms\\assignment 2\\ea-lunarlander\\.venv\\lib\\site-packages (from -r requirements.txt (line 9)) (7.3.3)\n",
      "Requirement already satisfied: swig in c:\\users\\shirl\\documents\\studie\\2024-2025\\evolutionary algorithms\\assignment 2\\ea-lunarlander\\.venv\\lib\\site-packages (from -r requirements.txt (line 10)) (4.3.1)\n",
      "Requirement already satisfied: gymnasium[box2d] in c:\\users\\shirl\\documents\\studie\\2024-2025\\evolutionary algorithms\\assignment 2\\ea-lunarlander\\.venv\\lib\\site-packages (from -r requirements.txt (line 11)) (0.26.3)\n",
      "Requirement already satisfied: contourpy>=1.0.1 in c:\\users\\shirl\\documents\\studie\\2024-2025\\evolutionary algorithms\\assignment 2\\ea-lunarlander\\.venv\\lib\\site-packages (from matplotlib->-r requirements.txt (line 3)) (1.1.1)\n",
      "Requirement already satisfied: cycler>=0.10 in c:\\users\\shirl\\documents\\studie\\2024-2025\\evolutionary algorithms\\assignment 2\\ea-lunarlander\\.venv\\lib\\site-packages (from matplotlib->-r requirements.txt (line 3)) (0.12.1)\n",
      "Requirement already satisfied: fonttools>=4.22.0 in c:\\users\\shirl\\documents\\studie\\2024-2025\\evolutionary algorithms\\assignment 2\\ea-lunarlander\\.venv\\lib\\site-packages (from matplotlib->-r requirements.txt (line 3)) (4.57.0)\n",
      "Requirement already satisfied: kiwisolver>=1.0.1 in c:\\users\\shirl\\documents\\studie\\2024-2025\\evolutionary algorithms\\assignment 2\\ea-lunarlander\\.venv\\lib\\site-packages (from matplotlib->-r requirements.txt (line 3)) (1.4.7)\n",
      "Requirement already satisfied: packaging>=20.0 in c:\\users\\shirl\\documents\\studie\\2024-2025\\evolutionary algorithms\\assignment 2\\ea-lunarlander\\.venv\\lib\\site-packages (from matplotlib->-r requirements.txt (line 3)) (25.0)\n",
      "Requirement already satisfied: pillow>=6.2.0 in c:\\users\\shirl\\documents\\studie\\2024-2025\\evolutionary algorithms\\assignment 2\\ea-lunarlander\\.venv\\lib\\site-packages (from matplotlib->-r requirements.txt (line 3)) (10.4.0)\n",
      "Requirement already satisfied: pyparsing>=2.3.1 in c:\\users\\shirl\\documents\\studie\\2024-2025\\evolutionary algorithms\\assignment 2\\ea-lunarlander\\.venv\\lib\\site-packages (from matplotlib->-r requirements.txt (line 3)) (3.1.4)\n",
      "Requirement already satisfied: python-dateutil>=2.7 in c:\\users\\shirl\\documents\\studie\\2024-2025\\evolutionary algorithms\\assignment 2\\ea-lunarlander\\.venv\\lib\\site-packages (from matplotlib->-r requirements.txt (line 3)) (2.9.0.post0)\n",
      "Requirement already satisfied: importlib-resources>=3.2.0 in c:\\users\\shirl\\documents\\studie\\2024-2025\\evolutionary algorithms\\assignment 2\\ea-lunarlander\\.venv\\lib\\site-packages (from matplotlib->-r requirements.txt (line 3)) (6.4.5)\n",
      "Requirement already satisfied: scipy>=1.5.0 in c:\\users\\shirl\\documents\\studie\\2024-2025\\evolutionary algorithms\\assignment 2\\ea-lunarlander\\.venv\\lib\\site-packages (from scikit-learn->-r requirements.txt (line 5)) (1.10.1)\n",
      "Requirement already satisfied: threadpoolctl>=2.0.0 in c:\\users\\shirl\\documents\\studie\\2024-2025\\evolutionary algorithms\\assignment 2\\ea-lunarlander\\.venv\\lib\\site-packages (from scikit-learn->-r requirements.txt (line 5)) (3.5.0)\n",
      "Requirement already satisfied: mpmath<1.4,>=1.1.0 in c:\\users\\shirl\\documents\\studie\\2024-2025\\evolutionary algorithms\\assignment 2\\ea-lunarlander\\.venv\\lib\\site-packages (from sympy>=1.9->-r requirements.txt (line 6)) (1.3.0)\n",
      "Requirement already satisfied: filelock in c:\\users\\shirl\\documents\\studie\\2024-2025\\evolutionary algorithms\\assignment 2\\ea-lunarlander\\.venv\\lib\\site-packages (from torch->-r requirements.txt (line 8)) (3.16.1)\n",
      "Requirement already satisfied: typing-extensions>=4.8.0 in c:\\users\\shirl\\documents\\studie\\2024-2025\\evolutionary algorithms\\assignment 2\\ea-lunarlander\\.venv\\lib\\site-packages (from torch->-r requirements.txt (line 8)) (4.13.2)\n",
      "Requirement already satisfied: networkx in c:\\users\\shirl\\documents\\studie\\2024-2025\\evolutionary algorithms\\assignment 2\\ea-lunarlander\\.venv\\lib\\site-packages (from torch->-r requirements.txt (line 8)) (3.1)\n",
      "Requirement already satisfied: jinja2 in c:\\users\\shirl\\documents\\studie\\2024-2025\\evolutionary algorithms\\assignment 2\\ea-lunarlander\\.venv\\lib\\site-packages (from torch->-r requirements.txt (line 8)) (3.1.6)\n",
      "Requirement already satisfied: fsspec in c:\\users\\shirl\\documents\\studie\\2024-2025\\evolutionary algorithms\\assignment 2\\ea-lunarlander\\.venv\\lib\\site-packages (from torch->-r requirements.txt (line 8)) (2025.3.0)\n",
      "Requirement already satisfied: jupyter-server<3,>=2.4.0 in c:\\users\\shirl\\documents\\studie\\2024-2025\\evolutionary algorithms\\assignment 2\\ea-lunarlander\\.venv\\lib\\site-packages (from notebook->-r requirements.txt (line 9)) (2.14.2)\n",
      "Requirement already satisfied: jupyterlab-server<3,>=2.27.1 in c:\\users\\shirl\\documents\\studie\\2024-2025\\evolutionary algorithms\\assignment 2\\ea-lunarlander\\.venv\\lib\\site-packages (from notebook->-r requirements.txt (line 9)) (2.27.3)\n",
      "Requirement already satisfied: jupyterlab<4.4,>=4.3.6 in c:\\users\\shirl\\documents\\studie\\2024-2025\\evolutionary algorithms\\assignment 2\\ea-lunarlander\\.venv\\lib\\site-packages (from notebook->-r requirements.txt (line 9)) (4.3.7)\n",
      "Requirement already satisfied: notebook-shim<0.3,>=0.2 in c:\\users\\shirl\\documents\\studie\\2024-2025\\evolutionary algorithms\\assignment 2\\ea-lunarlander\\.venv\\lib\\site-packages (from notebook->-r requirements.txt (line 9)) (0.2.4)\n",
      "Requirement already satisfied: tornado>=6.2.0 in c:\\users\\shirl\\documents\\studie\\2024-2025\\evolutionary algorithms\\assignment 2\\ea-lunarlander\\.venv\\lib\\site-packages (from notebook->-r requirements.txt (line 9)) (6.4.2)\n",
      "Requirement already satisfied: cloudpickle>=1.2.0 in c:\\users\\shirl\\documents\\studie\\2024-2025\\evolutionary algorithms\\assignment 2\\ea-lunarlander\\.venv\\lib\\site-packages (from gymnasium[box2d]->-r requirements.txt (line 11)) (3.1.1)\n",
      "Requirement already satisfied: gymnasium-notices>=0.0.1 in c:\\users\\shirl\\documents\\studie\\2024-2025\\evolutionary algorithms\\assignment 2\\ea-lunarlander\\.venv\\lib\\site-packages (from gymnasium[box2d]->-r requirements.txt (line 11)) (0.0.1)\n",
      "Requirement already satisfied: importlib-metadata>=4.8.0 in c:\\users\\shirl\\documents\\studie\\2024-2025\\evolutionary algorithms\\assignment 2\\ea-lunarlander\\.venv\\lib\\site-packages (from gymnasium[box2d]->-r requirements.txt (line 11)) (8.5.0)\n",
      "Requirement already satisfied: box2d-py==2.3.5 in c:\\users\\shirl\\documents\\studie\\2024-2025\\evolutionary algorithms\\assignment 2\\ea-lunarlander\\.venv\\lib\\site-packages (from gymnasium[box2d]->-r requirements.txt (line 11)) (2.3.5)\n",
      "Requirement already satisfied: zipp>=3.20 in c:\\users\\shirl\\documents\\studie\\2024-2025\\evolutionary algorithms\\assignment 2\\ea-lunarlander\\.venv\\lib\\site-packages (from importlib-metadata>=4.8.0->gymnasium[box2d]->-r requirements.txt (line 11)) (3.20.2)\n",
      "Requirement already satisfied: anyio>=3.1.0 in c:\\users\\shirl\\documents\\studie\\2024-2025\\evolutionary algorithms\\assignment 2\\ea-lunarlander\\.venv\\lib\\site-packages (from jupyter-server<3,>=2.4.0->notebook->-r requirements.txt (line 9)) (4.5.2)\n",
      "Requirement already satisfied: argon2-cffi>=21.1 in c:\\users\\shirl\\documents\\studie\\2024-2025\\evolutionary algorithms\\assignment 2\\ea-lunarlander\\.venv\\lib\\site-packages (from jupyter-server<3,>=2.4.0->notebook->-r requirements.txt (line 9)) (23.1.0)\n",
      "Requirement already satisfied: jupyter-client>=7.4.4 in c:\\users\\shirl\\documents\\studie\\2024-2025\\evolutionary algorithms\\assignment 2\\ea-lunarlander\\.venv\\lib\\site-packages (from jupyter-server<3,>=2.4.0->notebook->-r requirements.txt (line 9)) (8.6.3)\n",
      "Requirement already satisfied: jupyter-core!=5.0.*,>=4.12 in c:\\users\\shirl\\documents\\studie\\2024-2025\\evolutionary algorithms\\assignment 2\\ea-lunarlander\\.venv\\lib\\site-packages (from jupyter-server<3,>=2.4.0->notebook->-r requirements.txt (line 9)) (5.7.2)\n",
      "Requirement already satisfied: jupyter-events>=0.9.0 in c:\\users\\shirl\\documents\\studie\\2024-2025\\evolutionary algorithms\\assignment 2\\ea-lunarlander\\.venv\\lib\\site-packages (from jupyter-server<3,>=2.4.0->notebook->-r requirements.txt (line 9)) (0.10.0)\n",
      "Requirement already satisfied: jupyter-server-terminals>=0.4.4 in c:\\users\\shirl\\documents\\studie\\2024-2025\\evolutionary algorithms\\assignment 2\\ea-lunarlander\\.venv\\lib\\site-packages (from jupyter-server<3,>=2.4.0->notebook->-r requirements.txt (line 9)) (0.5.3)\n",
      "Requirement already satisfied: nbconvert>=6.4.4 in c:\\users\\shirl\\documents\\studie\\2024-2025\\evolutionary algorithms\\assignment 2\\ea-lunarlander\\.venv\\lib\\site-packages (from jupyter-server<3,>=2.4.0->notebook->-r requirements.txt (line 9)) (7.16.6)\n",
      "Requirement already satisfied: nbformat>=5.3.0 in c:\\users\\shirl\\documents\\studie\\2024-2025\\evolutionary algorithms\\assignment 2\\ea-lunarlander\\.venv\\lib\\site-packages (from jupyter-server<3,>=2.4.0->notebook->-r requirements.txt (line 9)) (5.10.4)\n",
      "Requirement already satisfied: overrides>=5.0 in c:\\users\\shirl\\documents\\studie\\2024-2025\\evolutionary algorithms\\assignment 2\\ea-lunarlander\\.venv\\lib\\site-packages (from jupyter-server<3,>=2.4.0->notebook->-r requirements.txt (line 9)) (7.7.0)\n",
      "Requirement already satisfied: prometheus-client>=0.9 in c:\\users\\shirl\\documents\\studie\\2024-2025\\evolutionary algorithms\\assignment 2\\ea-lunarlander\\.venv\\lib\\site-packages (from jupyter-server<3,>=2.4.0->notebook->-r requirements.txt (line 9)) (0.21.1)\n",
      "Requirement already satisfied: pywinpty>=2.0.1 in c:\\users\\shirl\\documents\\studie\\2024-2025\\evolutionary algorithms\\assignment 2\\ea-lunarlander\\.venv\\lib\\site-packages (from jupyter-server<3,>=2.4.0->notebook->-r requirements.txt (line 9)) (2.0.14)\n",
      "Requirement already satisfied: pyzmq>=24 in c:\\users\\shirl\\documents\\studie\\2024-2025\\evolutionary algorithms\\assignment 2\\ea-lunarlander\\.venv\\lib\\site-packages (from jupyter-server<3,>=2.4.0->notebook->-r requirements.txt (line 9)) (26.4.0)\n",
      "Requirement already satisfied: send2trash>=1.8.2 in c:\\users\\shirl\\documents\\studie\\2024-2025\\evolutionary algorithms\\assignment 2\\ea-lunarlander\\.venv\\lib\\site-packages (from jupyter-server<3,>=2.4.0->notebook->-r requirements.txt (line 9)) (1.8.3)\n",
      "Requirement already satisfied: terminado>=0.8.3 in c:\\users\\shirl\\documents\\studie\\2024-2025\\evolutionary algorithms\\assignment 2\\ea-lunarlander\\.venv\\lib\\site-packages (from jupyter-server<3,>=2.4.0->notebook->-r requirements.txt (line 9)) (0.18.1)\n",
      "Requirement already satisfied: traitlets>=5.6.0 in c:\\users\\shirl\\documents\\studie\\2024-2025\\evolutionary algorithms\\assignment 2\\ea-lunarlander\\.venv\\lib\\site-packages (from jupyter-server<3,>=2.4.0->notebook->-r requirements.txt (line 9)) (5.14.3)\n",
      "Requirement already satisfied: websocket-client>=1.7 in c:\\users\\shirl\\documents\\studie\\2024-2025\\evolutionary algorithms\\assignment 2\\ea-lunarlander\\.venv\\lib\\site-packages (from jupyter-server<3,>=2.4.0->notebook->-r requirements.txt (line 9)) (1.8.0)\n",
      "Requirement already satisfied: MarkupSafe>=2.0 in c:\\users\\shirl\\documents\\studie\\2024-2025\\evolutionary algorithms\\assignment 2\\ea-lunarlander\\.venv\\lib\\site-packages (from jinja2->torch->-r requirements.txt (line 8)) (2.1.5)\n",
      "Requirement already satisfied: async-lru>=1.0.0 in c:\\users\\shirl\\documents\\studie\\2024-2025\\evolutionary algorithms\\assignment 2\\ea-lunarlander\\.venv\\lib\\site-packages (from jupyterlab<4.4,>=4.3.6->notebook->-r requirements.txt (line 9)) (2.0.4)\n",
      "Requirement already satisfied: httpx>=0.25.0 in c:\\users\\shirl\\documents\\studie\\2024-2025\\evolutionary algorithms\\assignment 2\\ea-lunarlander\\.venv\\lib\\site-packages (from jupyterlab<4.4,>=4.3.6->notebook->-r requirements.txt (line 9)) (0.28.1)\n",
      "Requirement already satisfied: ipykernel>=6.5.0 in c:\\users\\shirl\\documents\\studie\\2024-2025\\evolutionary algorithms\\assignment 2\\ea-lunarlander\\.venv\\lib\\site-packages (from jupyterlab<4.4,>=4.3.6->notebook->-r requirements.txt (line 9)) (6.29.5)\n",
      "Requirement already satisfied: jupyter-lsp>=2.0.0 in c:\\users\\shirl\\documents\\studie\\2024-2025\\evolutionary algorithms\\assignment 2\\ea-lunarlander\\.venv\\lib\\site-packages (from jupyterlab<4.4,>=4.3.6->notebook->-r requirements.txt (line 9)) (2.2.5)\n",
      "Requirement already satisfied: setuptools>=41.1.0 in c:\\users\\shirl\\documents\\studie\\2024-2025\\evolutionary algorithms\\assignment 2\\ea-lunarlander\\.venv\\lib\\site-packages (from jupyterlab<4.4,>=4.3.6->notebook->-r requirements.txt (line 9)) (56.0.0)\n",
      "Requirement already satisfied: tomli>=1.2.2 in c:\\users\\shirl\\documents\\studie\\2024-2025\\evolutionary algorithms\\assignment 2\\ea-lunarlander\\.venv\\lib\\site-packages (from jupyterlab<4.4,>=4.3.6->notebook->-r requirements.txt (line 9)) (2.2.1)\n",
      "Requirement already satisfied: babel>=2.10 in c:\\users\\shirl\\documents\\studie\\2024-2025\\evolutionary algorithms\\assignment 2\\ea-lunarlander\\.venv\\lib\\site-packages (from jupyterlab-server<3,>=2.27.1->notebook->-r requirements.txt (line 9)) (2.17.0)\n",
      "Requirement already satisfied: json5>=0.9.0 in c:\\users\\shirl\\documents\\studie\\2024-2025\\evolutionary algorithms\\assignment 2\\ea-lunarlander\\.venv\\lib\\site-packages (from jupyterlab-server<3,>=2.27.1->notebook->-r requirements.txt (line 9)) (0.12.0)\n",
      "Requirement already satisfied: jsonschema>=4.18.0 in c:\\users\\shirl\\documents\\studie\\2024-2025\\evolutionary algorithms\\assignment 2\\ea-lunarlander\\.venv\\lib\\site-packages (from jupyterlab-server<3,>=2.27.1->notebook->-r requirements.txt (line 9)) (4.23.0)\n",
      "Requirement already satisfied: requests>=2.31 in c:\\users\\shirl\\documents\\studie\\2024-2025\\evolutionary algorithms\\assignment 2\\ea-lunarlander\\.venv\\lib\\site-packages (from jupyterlab-server<3,>=2.27.1->notebook->-r requirements.txt (line 9)) (2.32.3)\n",
      "Requirement already satisfied: six>=1.5 in c:\\users\\shirl\\documents\\studie\\2024-2025\\evolutionary algorithms\\assignment 2\\ea-lunarlander\\.venv\\lib\\site-packages (from python-dateutil>=2.7->matplotlib->-r requirements.txt (line 3)) (1.17.0)\n",
      "Requirement already satisfied: idna>=2.8 in c:\\users\\shirl\\documents\\studie\\2024-2025\\evolutionary algorithms\\assignment 2\\ea-lunarlander\\.venv\\lib\\site-packages (from anyio>=3.1.0->jupyter-server<3,>=2.4.0->notebook->-r requirements.txt (line 9)) (3.10)\n",
      "Requirement already satisfied: sniffio>=1.1 in c:\\users\\shirl\\documents\\studie\\2024-2025\\evolutionary algorithms\\assignment 2\\ea-lunarlander\\.venv\\lib\\site-packages (from anyio>=3.1.0->jupyter-server<3,>=2.4.0->notebook->-r requirements.txt (line 9)) (1.3.1)\n",
      "Requirement already satisfied: exceptiongroup>=1.0.2 in c:\\users\\shirl\\documents\\studie\\2024-2025\\evolutionary algorithms\\assignment 2\\ea-lunarlander\\.venv\\lib\\site-packages (from anyio>=3.1.0->jupyter-server<3,>=2.4.0->notebook->-r requirements.txt (line 9)) (1.3.0)\n",
      "Requirement already satisfied: argon2-cffi-bindings in c:\\users\\shirl\\documents\\studie\\2024-2025\\evolutionary algorithms\\assignment 2\\ea-lunarlander\\.venv\\lib\\site-packages (from argon2-cffi>=21.1->jupyter-server<3,>=2.4.0->notebook->-r requirements.txt (line 9)) (21.2.0)\n",
      "Requirement already satisfied: pytz>=2015.7 in c:\\users\\shirl\\documents\\studie\\2024-2025\\evolutionary algorithms\\assignment 2\\ea-lunarlander\\.venv\\lib\\site-packages (from babel>=2.10->jupyterlab-server<3,>=2.27.1->notebook->-r requirements.txt (line 9)) (2025.2)\n",
      "Requirement already satisfied: certifi in c:\\users\\shirl\\documents\\studie\\2024-2025\\evolutionary algorithms\\assignment 2\\ea-lunarlander\\.venv\\lib\\site-packages (from httpx>=0.25.0->jupyterlab<4.4,>=4.3.6->notebook->-r requirements.txt (line 9)) (2025.4.26)\n",
      "Requirement already satisfied: httpcore==1.* in c:\\users\\shirl\\documents\\studie\\2024-2025\\evolutionary algorithms\\assignment 2\\ea-lunarlander\\.venv\\lib\\site-packages (from httpx>=0.25.0->jupyterlab<4.4,>=4.3.6->notebook->-r requirements.txt (line 9)) (1.0.9)\n",
      "Requirement already satisfied: h11>=0.16 in c:\\users\\shirl\\documents\\studie\\2024-2025\\evolutionary algorithms\\assignment 2\\ea-lunarlander\\.venv\\lib\\site-packages (from httpcore==1.*->httpx>=0.25.0->jupyterlab<4.4,>=4.3.6->notebook->-r requirements.txt (line 9)) (0.16.0)\n",
      "Requirement already satisfied: comm>=0.1.1 in c:\\users\\shirl\\documents\\studie\\2024-2025\\evolutionary algorithms\\assignment 2\\ea-lunarlander\\.venv\\lib\\site-packages (from ipykernel>=6.5.0->jupyterlab<4.4,>=4.3.6->notebook->-r requirements.txt (line 9)) (0.2.2)\n",
      "Requirement already satisfied: debugpy>=1.6.5 in c:\\users\\shirl\\documents\\studie\\2024-2025\\evolutionary algorithms\\assignment 2\\ea-lunarlander\\.venv\\lib\\site-packages (from ipykernel>=6.5.0->jupyterlab<4.4,>=4.3.6->notebook->-r requirements.txt (line 9)) (1.8.14)\n",
      "Requirement already satisfied: ipython>=7.23.1 in c:\\users\\shirl\\documents\\studie\\2024-2025\\evolutionary algorithms\\assignment 2\\ea-lunarlander\\.venv\\lib\\site-packages (from ipykernel>=6.5.0->jupyterlab<4.4,>=4.3.6->notebook->-r requirements.txt (line 9)) (8.12.3)\n",
      "Requirement already satisfied: matplotlib-inline>=0.1 in c:\\users\\shirl\\documents\\studie\\2024-2025\\evolutionary algorithms\\assignment 2\\ea-lunarlander\\.venv\\lib\\site-packages (from ipykernel>=6.5.0->jupyterlab<4.4,>=4.3.6->notebook->-r requirements.txt (line 9)) (0.1.7)\n",
      "Requirement already satisfied: nest-asyncio in c:\\users\\shirl\\documents\\studie\\2024-2025\\evolutionary algorithms\\assignment 2\\ea-lunarlander\\.venv\\lib\\site-packages (from ipykernel>=6.5.0->jupyterlab<4.4,>=4.3.6->notebook->-r requirements.txt (line 9)) (1.6.0)\n",
      "Requirement already satisfied: psutil in c:\\users\\shirl\\documents\\studie\\2024-2025\\evolutionary algorithms\\assignment 2\\ea-lunarlander\\.venv\\lib\\site-packages (from ipykernel>=6.5.0->jupyterlab<4.4,>=4.3.6->notebook->-r requirements.txt (line 9)) (7.0.0)\n",
      "Requirement already satisfied: attrs>=22.2.0 in c:\\users\\shirl\\documents\\studie\\2024-2025\\evolutionary algorithms\\assignment 2\\ea-lunarlander\\.venv\\lib\\site-packages (from jsonschema>=4.18.0->jupyterlab-server<3,>=2.27.1->notebook->-r requirements.txt (line 9)) (25.3.0)\n",
      "Requirement already satisfied: jsonschema-specifications>=2023.03.6 in c:\\users\\shirl\\documents\\studie\\2024-2025\\evolutionary algorithms\\assignment 2\\ea-lunarlander\\.venv\\lib\\site-packages (from jsonschema>=4.18.0->jupyterlab-server<3,>=2.27.1->notebook->-r requirements.txt (line 9)) (2023.12.1)\n",
      "Requirement already satisfied: pkgutil-resolve-name>=1.3.10 in c:\\users\\shirl\\documents\\studie\\2024-2025\\evolutionary algorithms\\assignment 2\\ea-lunarlander\\.venv\\lib\\site-packages (from jsonschema>=4.18.0->jupyterlab-server<3,>=2.27.1->notebook->-r requirements.txt (line 9)) (1.3.10)\n",
      "Requirement already satisfied: referencing>=0.28.4 in c:\\users\\shirl\\documents\\studie\\2024-2025\\evolutionary algorithms\\assignment 2\\ea-lunarlander\\.venv\\lib\\site-packages (from jsonschema>=4.18.0->jupyterlab-server<3,>=2.27.1->notebook->-r requirements.txt (line 9)) (0.35.1)\n",
      "Requirement already satisfied: rpds-py>=0.7.1 in c:\\users\\shirl\\documents\\studie\\2024-2025\\evolutionary algorithms\\assignment 2\\ea-lunarlander\\.venv\\lib\\site-packages (from jsonschema>=4.18.0->jupyterlab-server<3,>=2.27.1->notebook->-r requirements.txt (line 9)) (0.20.1)\n",
      "Requirement already satisfied: platformdirs>=2.5 in c:\\users\\shirl\\documents\\studie\\2024-2025\\evolutionary algorithms\\assignment 2\\ea-lunarlander\\.venv\\lib\\site-packages (from jupyter-core!=5.0.*,>=4.12->jupyter-server<3,>=2.4.0->notebook->-r requirements.txt (line 9)) (4.3.6)\n",
      "Requirement already satisfied: pywin32>=300 in c:\\users\\shirl\\documents\\studie\\2024-2025\\evolutionary algorithms\\assignment 2\\ea-lunarlander\\.venv\\lib\\site-packages (from jupyter-core!=5.0.*,>=4.12->jupyter-server<3,>=2.4.0->notebook->-r requirements.txt (line 9)) (310)\n",
      "Requirement already satisfied: python-json-logger>=2.0.4 in c:\\users\\shirl\\documents\\studie\\2024-2025\\evolutionary algorithms\\assignment 2\\ea-lunarlander\\.venv\\lib\\site-packages (from jupyter-events>=0.9.0->jupyter-server<3,>=2.4.0->notebook->-r requirements.txt (line 9)) (3.3.0)\n",
      "Requirement already satisfied: pyyaml>=5.3 in c:\\users\\shirl\\documents\\studie\\2024-2025\\evolutionary algorithms\\assignment 2\\ea-lunarlander\\.venv\\lib\\site-packages (from jupyter-events>=0.9.0->jupyter-server<3,>=2.4.0->notebook->-r requirements.txt (line 9)) (6.0.2)\n",
      "Requirement already satisfied: rfc3339-validator in c:\\users\\shirl\\documents\\studie\\2024-2025\\evolutionary algorithms\\assignment 2\\ea-lunarlander\\.venv\\lib\\site-packages (from jupyter-events>=0.9.0->jupyter-server<3,>=2.4.0->notebook->-r requirements.txt (line 9)) (0.1.4)\n",
      "Requirement already satisfied: rfc3986-validator>=0.1.1 in c:\\users\\shirl\\documents\\studie\\2024-2025\\evolutionary algorithms\\assignment 2\\ea-lunarlander\\.venv\\lib\\site-packages (from jupyter-events>=0.9.0->jupyter-server<3,>=2.4.0->notebook->-r requirements.txt (line 9)) (0.1.1)\n",
      "Requirement already satisfied: beautifulsoup4 in c:\\users\\shirl\\documents\\studie\\2024-2025\\evolutionary algorithms\\assignment 2\\ea-lunarlander\\.venv\\lib\\site-packages (from nbconvert>=6.4.4->jupyter-server<3,>=2.4.0->notebook->-r requirements.txt (line 9)) (4.13.4)\n",
      "Requirement already satisfied: bleach!=5.0.0 in c:\\users\\shirl\\documents\\studie\\2024-2025\\evolutionary algorithms\\assignment 2\\ea-lunarlander\\.venv\\lib\\site-packages (from bleach[css]!=5.0.0->nbconvert>=6.4.4->jupyter-server<3,>=2.4.0->notebook->-r requirements.txt (line 9)) (6.1.0)\n",
      "Requirement already satisfied: defusedxml in c:\\users\\shirl\\documents\\studie\\2024-2025\\evolutionary algorithms\\assignment 2\\ea-lunarlander\\.venv\\lib\\site-packages (from nbconvert>=6.4.4->jupyter-server<3,>=2.4.0->notebook->-r requirements.txt (line 9)) (0.7.1)\n",
      "Requirement already satisfied: jupyterlab-pygments in c:\\users\\shirl\\documents\\studie\\2024-2025\\evolutionary algorithms\\assignment 2\\ea-lunarlander\\.venv\\lib\\site-packages (from nbconvert>=6.4.4->jupyter-server<3,>=2.4.0->notebook->-r requirements.txt (line 9)) (0.3.0)\n",
      "Requirement already satisfied: mistune<4,>=2.0.3 in c:\\users\\shirl\\documents\\studie\\2024-2025\\evolutionary algorithms\\assignment 2\\ea-lunarlander\\.venv\\lib\\site-packages (from nbconvert>=6.4.4->jupyter-server<3,>=2.4.0->notebook->-r requirements.txt (line 9)) (3.1.3)\n",
      "Requirement already satisfied: nbclient>=0.5.0 in c:\\users\\shirl\\documents\\studie\\2024-2025\\evolutionary algorithms\\assignment 2\\ea-lunarlander\\.venv\\lib\\site-packages (from nbconvert>=6.4.4->jupyter-server<3,>=2.4.0->notebook->-r requirements.txt (line 9)) (0.10.1)\n",
      "Requirement already satisfied: pandocfilters>=1.4.1 in c:\\users\\shirl\\documents\\studie\\2024-2025\\evolutionary algorithms\\assignment 2\\ea-lunarlander\\.venv\\lib\\site-packages (from nbconvert>=6.4.4->jupyter-server<3,>=2.4.0->notebook->-r requirements.txt (line 9)) (1.5.1)\n",
      "Requirement already satisfied: pygments>=2.4.1 in c:\\users\\shirl\\documents\\studie\\2024-2025\\evolutionary algorithms\\assignment 2\\ea-lunarlander\\.venv\\lib\\site-packages (from nbconvert>=6.4.4->jupyter-server<3,>=2.4.0->notebook->-r requirements.txt (line 9)) (2.19.1)\n",
      "Requirement already satisfied: fastjsonschema>=2.15 in c:\\users\\shirl\\documents\\studie\\2024-2025\\evolutionary algorithms\\assignment 2\\ea-lunarlander\\.venv\\lib\\site-packages (from nbformat>=5.3.0->jupyter-server<3,>=2.4.0->notebook->-r requirements.txt (line 9)) (2.21.1)\n",
      "Requirement already satisfied: charset-normalizer<4,>=2 in c:\\users\\shirl\\documents\\studie\\2024-2025\\evolutionary algorithms\\assignment 2\\ea-lunarlander\\.venv\\lib\\site-packages (from requests>=2.31->jupyterlab-server<3,>=2.27.1->notebook->-r requirements.txt (line 9)) (3.4.2)\n",
      "Requirement already satisfied: urllib3<3,>=1.21.1 in c:\\users\\shirl\\documents\\studie\\2024-2025\\evolutionary algorithms\\assignment 2\\ea-lunarlander\\.venv\\lib\\site-packages (from requests>=2.31->jupyterlab-server<3,>=2.27.1->notebook->-r requirements.txt (line 9)) (2.2.3)\n",
      "Requirement already satisfied: webencodings in c:\\users\\shirl\\documents\\studie\\2024-2025\\evolutionary algorithms\\assignment 2\\ea-lunarlander\\.venv\\lib\\site-packages (from bleach!=5.0.0->bleach[css]!=5.0.0->nbconvert>=6.4.4->jupyter-server<3,>=2.4.0->notebook->-r requirements.txt (line 9)) (0.5.1)\n",
      "Requirement already satisfied: tinycss2<1.3,>=1.1.0 in c:\\users\\shirl\\documents\\studie\\2024-2025\\evolutionary algorithms\\assignment 2\\ea-lunarlander\\.venv\\lib\\site-packages (from bleach[css]!=5.0.0->nbconvert>=6.4.4->jupyter-server<3,>=2.4.0->notebook->-r requirements.txt (line 9)) (1.2.1)\n",
      "Requirement already satisfied: backcall in c:\\users\\shirl\\documents\\studie\\2024-2025\\evolutionary algorithms\\assignment 2\\ea-lunarlander\\.venv\\lib\\site-packages (from ipython>=7.23.1->ipykernel>=6.5.0->jupyterlab<4.4,>=4.3.6->notebook->-r requirements.txt (line 9)) (0.2.0)\n",
      "Requirement already satisfied: decorator in c:\\users\\shirl\\documents\\studie\\2024-2025\\evolutionary algorithms\\assignment 2\\ea-lunarlander\\.venv\\lib\\site-packages (from ipython>=7.23.1->ipykernel>=6.5.0->jupyterlab<4.4,>=4.3.6->notebook->-r requirements.txt (line 9)) (5.2.1)\n",
      "Requirement already satisfied: jedi>=0.16 in c:\\users\\shirl\\documents\\studie\\2024-2025\\evolutionary algorithms\\assignment 2\\ea-lunarlander\\.venv\\lib\\site-packages (from ipython>=7.23.1->ipykernel>=6.5.0->jupyterlab<4.4,>=4.3.6->notebook->-r requirements.txt (line 9)) (0.19.2)\n",
      "Requirement already satisfied: pickleshare in c:\\users\\shirl\\documents\\studie\\2024-2025\\evolutionary algorithms\\assignment 2\\ea-lunarlander\\.venv\\lib\\site-packages (from ipython>=7.23.1->ipykernel>=6.5.0->jupyterlab<4.4,>=4.3.6->notebook->-r requirements.txt (line 9)) (0.7.5)\n",
      "Requirement already satisfied: prompt-toolkit!=3.0.37,<3.1.0,>=3.0.30 in c:\\users\\shirl\\documents\\studie\\2024-2025\\evolutionary algorithms\\assignment 2\\ea-lunarlander\\.venv\\lib\\site-packages (from ipython>=7.23.1->ipykernel>=6.5.0->jupyterlab<4.4,>=4.3.6->notebook->-r requirements.txt (line 9)) (3.0.51)\n",
      "Requirement already satisfied: stack-data in c:\\users\\shirl\\documents\\studie\\2024-2025\\evolutionary algorithms\\assignment 2\\ea-lunarlander\\.venv\\lib\\site-packages (from ipython>=7.23.1->ipykernel>=6.5.0->jupyterlab<4.4,>=4.3.6->notebook->-r requirements.txt (line 9)) (0.6.3)\n",
      "Requirement already satisfied: colorama in c:\\users\\shirl\\documents\\studie\\2024-2025\\evolutionary algorithms\\assignment 2\\ea-lunarlander\\.venv\\lib\\site-packages (from ipython>=7.23.1->ipykernel>=6.5.0->jupyterlab<4.4,>=4.3.6->notebook->-r requirements.txt (line 9)) (0.4.6)\n",
      "Requirement already satisfied: fqdn in c:\\users\\shirl\\documents\\studie\\2024-2025\\evolutionary algorithms\\assignment 2\\ea-lunarlander\\.venv\\lib\\site-packages (from jsonschema[format-nongpl]>=4.18.0->jupyter-events>=0.9.0->jupyter-server<3,>=2.4.0->notebook->-r requirements.txt (line 9)) (1.5.1)\n",
      "Requirement already satisfied: isoduration in c:\\users\\shirl\\documents\\studie\\2024-2025\\evolutionary algorithms\\assignment 2\\ea-lunarlander\\.venv\\lib\\site-packages (from jsonschema[format-nongpl]>=4.18.0->jupyter-events>=0.9.0->jupyter-server<3,>=2.4.0->notebook->-r requirements.txt (line 9)) (20.11.0)\n",
      "Requirement already satisfied: jsonpointer>1.13 in c:\\users\\shirl\\documents\\studie\\2024-2025\\evolutionary algorithms\\assignment 2\\ea-lunarlander\\.venv\\lib\\site-packages (from jsonschema[format-nongpl]>=4.18.0->jupyter-events>=0.9.0->jupyter-server<3,>=2.4.0->notebook->-r requirements.txt (line 9)) (3.0.0)\n",
      "Requirement already satisfied: uri-template in c:\\users\\shirl\\documents\\studie\\2024-2025\\evolutionary algorithms\\assignment 2\\ea-lunarlander\\.venv\\lib\\site-packages (from jsonschema[format-nongpl]>=4.18.0->jupyter-events>=0.9.0->jupyter-server<3,>=2.4.0->notebook->-r requirements.txt (line 9)) (1.3.0)\n",
      "Requirement already satisfied: webcolors>=24.6.0 in c:\\users\\shirl\\documents\\studie\\2024-2025\\evolutionary algorithms\\assignment 2\\ea-lunarlander\\.venv\\lib\\site-packages (from jsonschema[format-nongpl]>=4.18.0->jupyter-events>=0.9.0->jupyter-server<3,>=2.4.0->notebook->-r requirements.txt (line 9)) (24.8.0)\n",
      "Requirement already satisfied: cffi>=1.0.1 in c:\\users\\shirl\\documents\\studie\\2024-2025\\evolutionary algorithms\\assignment 2\\ea-lunarlander\\.venv\\lib\\site-packages (from argon2-cffi-bindings->argon2-cffi>=21.1->jupyter-server<3,>=2.4.0->notebook->-r requirements.txt (line 9)) (1.17.1)\n",
      "Requirement already satisfied: soupsieve>1.2 in c:\\users\\shirl\\documents\\studie\\2024-2025\\evolutionary algorithms\\assignment 2\\ea-lunarlander\\.venv\\lib\\site-packages (from beautifulsoup4->nbconvert>=6.4.4->jupyter-server<3,>=2.4.0->notebook->-r requirements.txt (line 9)) (2.7)\n",
      "Requirement already satisfied: pycparser in c:\\users\\shirl\\documents\\studie\\2024-2025\\evolutionary algorithms\\assignment 2\\ea-lunarlander\\.venv\\lib\\site-packages (from cffi>=1.0.1->argon2-cffi-bindings->argon2-cffi>=21.1->jupyter-server<3,>=2.4.0->notebook->-r requirements.txt (line 9)) (2.22)\n",
      "Requirement already satisfied: parso<0.9.0,>=0.8.4 in c:\\users\\shirl\\documents\\studie\\2024-2025\\evolutionary algorithms\\assignment 2\\ea-lunarlander\\.venv\\lib\\site-packages (from jedi>=0.16->ipython>=7.23.1->ipykernel>=6.5.0->jupyterlab<4.4,>=4.3.6->notebook->-r requirements.txt (line 9)) (0.8.4)\n",
      "Requirement already satisfied: wcwidth in c:\\users\\shirl\\documents\\studie\\2024-2025\\evolutionary algorithms\\assignment 2\\ea-lunarlander\\.venv\\lib\\site-packages (from prompt-toolkit!=3.0.37,<3.1.0,>=3.0.30->ipython>=7.23.1->ipykernel>=6.5.0->jupyterlab<4.4,>=4.3.6->notebook->-r requirements.txt (line 9)) (0.2.13)\n",
      "Requirement already satisfied: arrow>=0.15.0 in c:\\users\\shirl\\documents\\studie\\2024-2025\\evolutionary algorithms\\assignment 2\\ea-lunarlander\\.venv\\lib\\site-packages (from isoduration->jsonschema[format-nongpl]>=4.18.0->jupyter-events>=0.9.0->jupyter-server<3,>=2.4.0->notebook->-r requirements.txt (line 9)) (1.3.0)\n",
      "Requirement already satisfied: executing>=1.2.0 in c:\\users\\shirl\\documents\\studie\\2024-2025\\evolutionary algorithms\\assignment 2\\ea-lunarlander\\.venv\\lib\\site-packages (from stack-data->ipython>=7.23.1->ipykernel>=6.5.0->jupyterlab<4.4,>=4.3.6->notebook->-r requirements.txt (line 9)) (2.2.0)\n",
      "Requirement already satisfied: asttokens>=2.1.0 in c:\\users\\shirl\\documents\\studie\\2024-2025\\evolutionary algorithms\\assignment 2\\ea-lunarlander\\.venv\\lib\\site-packages (from stack-data->ipython>=7.23.1->ipykernel>=6.5.0->jupyterlab<4.4,>=4.3.6->notebook->-r requirements.txt (line 9)) (3.0.0)\n",
      "Requirement already satisfied: pure-eval in c:\\users\\shirl\\documents\\studie\\2024-2025\\evolutionary algorithms\\assignment 2\\ea-lunarlander\\.venv\\lib\\site-packages (from stack-data->ipython>=7.23.1->ipykernel>=6.5.0->jupyterlab<4.4,>=4.3.6->notebook->-r requirements.txt (line 9)) (0.2.3)\n",
      "Requirement already satisfied: types-python-dateutil>=2.8.10 in c:\\users\\shirl\\documents\\studie\\2024-2025\\evolutionary algorithms\\assignment 2\\ea-lunarlander\\.venv\\lib\\site-packages (from arrow>=0.15.0->isoduration->jsonschema[format-nongpl]>=4.18.0->jupyter-events>=0.9.0->jupyter-server<3,>=2.4.0->notebook->-r requirements.txt (line 9)) (2.9.0.20241206)\n"
     ]
    }
   ],
   "source": [
    "!pip install -r requirements.txt"
   ]
  },
  {
   "cell_type": "markdown",
   "metadata": {},
   "source": [
    "## Imports\n",
    "Imports from the standard genepro-multi library are done here. Any adjustments (e.g. different operators) should be made in the notebook. For example:\n",
    "\n",
    "```\n",
    "class SmoothOperator(Node):\n",
    "  def __init__(self):\n",
    "    super(SmoothOperator,self).__init__()\n",
    "    self.arity = 1\n",
    "    self.symb = \"SmoothOperator\"\n",
    "\n",
    "  def _get_args_repr(self, args):\n",
    "    return self._get_typical_repr(args,'before')\n",
    "\n",
    "  def get_output(self, X):\n",
    "    c_outs = self._get_child_outputs(X)\n",
    "    return np.smoothOperation(c_outs[0])\n",
    "\n",
    "  def get_output_pt(self, X):\n",
    "    c_outs = self._get_child_outputs_pt(X)\n",
    "    return torch.smoothOperation(c_outs[0])\n",
    "```"
   ]
  },
  {
   "cell_type": "code",
   "metadata": {
    "ExecuteTime": {
     "end_time": "2025-06-07T08:17:25.629231Z",
     "start_time": "2025-06-07T08:17:22.433420Z"
    }
   },
   "source": [
    "import gymnasium as gym\n",
    "\n",
    "from genepro.node_impl import *\n",
    "from genepro.evo import Evolution\n",
    "from genepro.node_impl import Constant\n",
    "\n",
    "import torch\n",
    "import torch.optim as optim\n",
    "\n",
    "import random\n",
    "import os\n",
    "import copy\n",
    "from collections import namedtuple, deque\n",
    "\n",
    "import matplotlib.pyplot as plt\n",
    "from matplotlib import animation\n",
    "\n",
    "import pickle\n",
    "from genepro.selection import tournament_selection\n",
    "import winsound\n",
    "frequency = 2500  # Set Frequency To 2500 Hertz\n",
    "duration = 500  # Set Duration To 1000 ms == 1 second\n",
    "winsound.Beep(frequency, duration)"
   ],
   "outputs": [],
   "execution_count": 1
  },
  {
   "cell_type": "markdown",
   "metadata": {},
   "source": [
    "## Reinforcement Learning Setup\n",
    "Here we first setup the Gymnasium environment. Please see https://gymnasium.farama.org/environments/box2d/lunar_lander/ for more information on the environment. \n",
    "\n",
    "Then a memory buffer is made. This is a buffer in which state transitions are stored. When the buffer reaches its maximum capacity old transitions are replaced by new ones.\n",
    "\n",
    "A frame buffer is initialised used to later store animation frames of the environment."
   ]
  },
  {
   "cell_type": "code",
   "execution_count": 4,
   "metadata": {
    "ExecuteTime": {
     "end_time": "2025-05-27T14:36:28.517283Z",
     "start_time": "2025-05-27T14:36:28.511277Z"
    }
   },
   "outputs": [],
   "source": [
    "env = gym.make(\"LunarLander-v2\", render_mode=\"rgb_array\")"
   ]
  },
  {
   "cell_type": "code",
   "execution_count": 5,
   "metadata": {
    "ExecuteTime": {
     "end_time": "2025-05-27T14:36:29.509835Z",
     "start_time": "2025-05-27T14:36:29.490447Z"
    }
   },
   "outputs": [],
   "source": [
    "Transition = namedtuple('Transition', ('state', 'action', 'next_state', 'reward'))\n",
    "\n",
    "class ReplayMemory(object):\n",
    "    def __init__(self, capacity):\n",
    "        self.memory = deque([], maxlen=capacity)\n",
    "\n",
    "    def push(self, *args):\n",
    "        \"\"\"Save a transition\"\"\"\n",
    "        self.memory.append(Transition(*args))\n",
    "\n",
    "    def sample(self, batch_size):\n",
    "        return random.sample(self.memory, batch_size)\n",
    "\n",
    "    def __len__(self):\n",
    "        return len(self.memory)\n",
    "\n",
    "    def __iadd__(self, other):\n",
    "      self.memory += other.memory\n",
    "      return self \n",
    "\n",
    "    def __add__(self, other):\n",
    "      self.memory = self.memory + other.memory \n",
    "      return self"
   ]
  },
  {
   "cell_type": "code",
   "execution_count": 6,
   "metadata": {
    "ExecuteTime": {
     "end_time": "2025-05-27T14:36:31.551852Z",
     "start_time": "2025-05-27T14:36:31.537332Z"
    }
   },
   "outputs": [],
   "source": [
    "frames = []"
   ]
  },
  {
   "cell_type": "markdown",
   "metadata": {},
   "source": [
    "## Fitness Function\n",
    "\n",
    "Here you get to be creative. The default setup evaluates 5 episodes of 300 frames. Think of what action to pick and what fitness function to use. The Multi-tree takes an input of $n \\times d$ where $n$ is a batch of size 1."
   ]
  },
  {
   "cell_type": "code",
   "execution_count": 7,
   "metadata": {
    "ExecuteTime": {
     "end_time": "2025-05-27T14:36:33.270968Z",
     "start_time": "2025-05-27T14:36:33.251445Z"
    }
   },
   "outputs": [],
   "source": [
    "def fitness_function_pt(multitree, num_episodes=5, episode_duration=300, render=False, ignore_done=False):\n",
    "  memory = ReplayMemory(10000)\n",
    "  rewards_list = []\n",
    "\n",
    "  for _ in range(num_episodes):\n",
    "    # get initial state of the environment\n",
    "    observation = env.reset()\n",
    "    observation = observation[0]\n",
    "    rewards = []\n",
    "    \n",
    "    for _ in range(episode_duration):\n",
    "      if render:\n",
    "        frames.append(env.render())\n",
    "\n",
    "      input_sample = torch.from_numpy(observation.reshape((1,-1))).float()\n",
    "      \n",
    "      # what goes here?\n",
    "      action =  torch.argmax(multitree.get_output_pt(input_sample))\n",
    "      observation, reward, terminated, truncated, info = env.step(action.item())\n",
    "      rewards.append(reward)\n",
    "      output_sample = torch.from_numpy(observation.reshape((1,-1))).float()\n",
    "      memory.push(input_sample, torch.tensor([[action.item()]]), output_sample, torch.tensor([reward]))\n",
    "      if (terminated or truncated) and not ignore_done:\n",
    "        break\n",
    "    rewards_list.append(rewards)\n",
    "\n",
    "  fitness = np.sum([np.sum(rewards) for rewards in rewards_list])\n",
    "  \n",
    "  return fitness, memory"
   ]
  },
  {
   "cell_type": "markdown",
   "metadata": {},
   "source": [
    "## Selection function\n",
    "Here we use a boolean to check how the variation of the population is. If at some point it is above a threshold, we switch our seleciton function. We first use Roulette Wheel selection, then switch to tournament selection. This is a simple way to ensure diversity in the population."
   ]
  },
  {
   "cell_type": "code",
   "execution_count": 8,
   "metadata": {
    "ExecuteTime": {
     "end_time": "2025-05-27T15:44:24.628450Z",
     "start_time": "2025-05-27T15:44:24.606979Z"
    }
   },
   "outputs": [],
   "source": [
    "def roulette_wheel_selection(population, number_to_select, num_gens):\n",
    "    fitnesses = [ind.fitness for ind in population]\n",
    "    total_fitness = sum(fitnesses)\n",
    "    selection_probs = [f / total_fitness for f in fitnesses]\n",
    "    selected = []\n",
    "    for i in range(number_to_select):\n",
    "        selected_index = np.random.choice(len(population), p=selection_probs)\n",
    "        selected.append(population[selected_index])\n",
    "    return selected"
   ]
  },
  {
   "cell_type": "code",
   "execution_count": 9,
   "metadata": {
    "ExecuteTime": {
     "end_time": "2025-05-27T15:44:25.960967Z",
     "start_time": "2025-05-27T15:44:25.939936Z"
    }
   },
   "outputs": [],
   "source": [
    "def combined_selection_difference_from_mean(population, number_to_select, num_gens, tournament_size):\n",
    "    # max difference action is leading\n",
    "    min_fitness = population[0].fitness\n",
    "    max_fitness = population[0].fitness\n",
    "    sum_fitness = 0\n",
    "    for i in range(len(population)):\n",
    "        current_fitness = population[i].fitness\n",
    "        if current_fitness < min_fitness:\n",
    "            min_fitness = current_fitness\n",
    "        if current_fitness > max_fitness:\n",
    "            max_fitness = current_fitness\n",
    "        sum_fitness += current_fitness\n",
    "\n",
    "    average_fitness = sum_fitness / len(population)\n",
    "    if abs(max_fitness - average_fitness) < abs(min_fitness - average_fitness):\n",
    "        has_deviated = True\n",
    "    else:\n",
    "        has_deviated = False\n",
    "    if has_deviated:\n",
    "        # Use tournament selection\n",
    "        print(\"Using tournament selection\")\n",
    "        return tournament_selection(population, number_to_select, num_gens, tournament_size=tournament_size)\n",
    "    else:\n",
    "        # Use roulette wheel selection\n",
    "        print(\"Using roulette wheel selection\")\n",
    "        return roulette_wheel_selection(population, number_to_select, num_gens)"
   ]
  },
  {
   "cell_type": "code",
   "execution_count": 10,
   "metadata": {},
   "outputs": [],
   "source": [
    "def combined_selection_hard_criteria(population, number_to_select, tournament_size, num_gens, switch_criteria):\n",
    "    if num_gens > switch_criteria:\n",
    "        # Use tournament selection\n",
    "        print(\"Using tournament selection\")\n",
    "        return tournament_selection(population, number_to_select, num_gens, tournament_size=tournament_size)\n",
    "    else:\n",
    "        # Use roulette wheel selection\n",
    "        print(\"Using roulette wheel selection\")\n",
    "        return roulette_wheel_selection(population, number_to_select, num_gens)"
   ]
  },
  {
   "cell_type": "code",
   "execution_count": 11,
   "metadata": {},
   "outputs": [],
   "source": [
    "def combined_selection_std(population, number_to_select, num_gens, tournament_size):\n",
    "    # max difference action is leading\n",
    "    fitnesses = [ind.fitness for ind in population]\n",
    "    normalized_fitnesses = np.array(fitnesses) / np.mean(fitnesses) if np.mean(fitnesses) != 0 else np.array(fitnesses)\n",
    "    normalized_std_fitness = np.std(normalized_fitnesses)\n",
    "    print(f\"Normalized standard deviation of fitnesses: {normalized_std_fitness}\")\n",
    "    if normalized_std_fitness > 0.6:\n",
    "        # Use tournament selection\n",
    "        print(\"Using tournament selection\")\n",
    "        return tournament_selection(population, number_to_select, num_gens, tournament_size=tournament_size)\n",
    "    else:\n",
    "        # Use roulette wheel selection\n",
    "        print(\"Using roulette wheel selection\")\n",
    "        return roulette_wheel_selection(population, number_to_select, num_gens)"
   ]
  },
  {
   "cell_type": "markdown",
   "metadata": {},
   "source": [
    "## Evolution Setup\n",
    "Here the leaf and internal nodes are defined. Think about the odds of sampling a constant in this default configurations. Also think about any operators that could be useful and add them here.\n",
    "\n",
    "Adjust the population size (multiple of 8 if you want to use the standard tournament selection), max generations and max tree size to taste. Be aware that each of these settings can increase the runtime."
   ]
  },
  {
   "cell_type": "code",
   "execution_count": 12,
   "metadata": {
    "ExecuteTime": {
     "end_time": "2025-05-27T15:44:27.844734Z",
     "start_time": "2025-05-27T15:44:27.824730Z"
    }
   },
   "outputs": [],
   "source": [
    "num_features = env.observation_space.shape[0]\n",
    "leaf_nodes = [Feature(i) for i in range(num_features)]\n",
    "leaf_nodes = leaf_nodes + [Constant()] # Think about the probability of sampling a coefficient\n",
    "internal_nodes = [Plus(),Minus(),Times(),Div()] #Add your own operators here\n",
    "selection_function = {\n",
    "    \"fun\":combined_selection_std,\n",
    "    \"kwargs\":{\"tournament_size\": 16}}\n",
    "evo = Evolution(\n",
    "  fitness_function_pt, internal_nodes, leaf_nodes,\n",
    "  4,\n",
    "  pop_size=128,\n",
    "  max_gens=30,\n",
    "  max_tree_size=30,\n",
    "  selection=selection_function,\n",
    "  n_jobs=8,\n",
    "  verbose=True)"
   ]
  },
  {
   "cell_type": "markdown",
   "metadata": {},
   "source": [
    "## Evolve\n",
    "Running this cell will use all the settings above as parameters"
   ]
  },
  {
   "cell_type": "code",
   "execution_count": null,
   "metadata": {
    "ExecuteTime": {
     "end_time": "2025-05-27T15:47:15.887797Z",
     "start_time": "2025-05-27T15:44:29.414805Z"
    }
   },
   "outputs": [],
   "source": [
    "evo.evolve()"
   ]
  },
  {
   "cell_type": "code",
   "execution_count": null,
   "metadata": {},
   "outputs": [],
   "source": [
    "# Save evo.best_of_gens to file\n",
    "if not os.path.exists(\"experiments\"):\n",
    "    os.makedirs(\"experiments\")\n",
    "    \n",
    "experiment_name = f\"evo_n={evo.pop_size}_ng={evo.max_gens}_t={evo.max_tree_size}_s={selection_function['fun'].__name__}.pt\"\n",
    "experiment_path = os.path.join(\"experiments\", experiment_name)\n",
    "with open(experiment_path.replace(\".pt\", \".pkl\"), \"wb\") as f:\n",
    "    pickle.dump(evo, f)"
   ]
  },
  {
   "cell_type": "markdown",
   "metadata": {},
   "source": [
    "### Selection method experiment setup"
   ]
  },
  {
   "cell_type": "code",
   "execution_count": null,
   "metadata": {},
   "outputs": [],
   "source": [
    "selection_functions = [roulette_wheel_selection, \n",
    "                      tournament_selection]\n",
    "switch_criteria = [7, 14, 22]\n",
    "selection_hard_criteria = [{\"fun\": combined_selection_hard_criteria,\n",
    "                          \"kwargs\": {\"tournament_size\": 16, \"switch_criteria\": i}} for i in switch_criteria]\n",
    "selection_functions_arg = [{\"fun\": func, \"kwargs\":{\"tournament_size\": 16}} for func in selection_functions]\n",
    "selection_functions_arg.extend(selection_hard_criteria)\n",
    "\n",
    "n_runs = 5\n",
    "pop_size = 128\n",
    "max_gens = 30\n",
    "\n",
    "for selection_function in selection_functions_arg:\n",
    "    for i in range(n_runs):\n",
    "      print(f\"Running evolution with selection function: {selection_function['fun'].__name__}, run {i+1}/{n_runs}\")\n",
    "      evo = Evolution(\n",
    "        fitness_function_pt, internal_nodes, leaf_nodes,\n",
    "        4,\n",
    "        pop_size=pop_size,\n",
    "        max_gens=max_gens,\n",
    "        max_tree_size=30,\n",
    "        selection=selection_function,\n",
    "        n_jobs=8,\n",
    "        verbose=True)\n",
    "\n",
    "      evo.evolve()\n",
    "\n",
    "      experiment_name = f\"evo_n={evo.pop_size}_ng={evo.max_gens}_t={evo.max_tree_size}_s={selection_function['fun'].__name__}_{i}.pkl\"\n",
    "      experiment_path = os.path.join(\"experiments\", experiment_name)\n",
    "      \n",
    "      if not os.path.exists(\"experiments\"):\n",
    "        os.makedirs(\"experiments\")\n",
    "\n",
    "      # save as pickle\n",
    "      with open(experiment_path, \"wb\") as f:\n",
    "          pickle.dump(evo, f)\n",
    "  winsound.Beep(frequency, duration)"
   ]
  },
  {
   "cell_type": "markdown",
   "metadata": {},
   "source": [
    "# Test"
   ]
  },
  {
   "cell_type": "code",
   "execution_count": null,
   "metadata": {},
   "outputs": [],
   "source": [
    "def get_test_score(tree):\n",
    "    rewards_list = []\n",
    "\n",
    "    for i in range(10):\n",
    "      # get initial state\n",
    "      observation = env.reset(seed=i)\n",
    "      observation = observation[0]\n",
    "      rewards = []\n",
    "\n",
    "      for _ in range(500):    \n",
    "        # build up the input sample for GP\n",
    "        input_sample = torch.from_numpy(observation.reshape((1,-1))).float()\n",
    "        # get output (squeezing because it is encapsulated in an array)\n",
    "        output = tree.get_output_pt(input_sample)\n",
    "        action = torch.argmax(output)# What goes here?\n",
    "        observation, reward, terminated, truncated, info = env.step(action.item())\n",
    "        rewards.append(reward)\n",
    "\n",
    "\n",
    "        output_sample = torch.from_numpy(observation.reshape((1,-1))).float()\n",
    "        if (terminated or truncated):\n",
    "            break\n",
    "      rewards_list.append(rewards)\n",
    "\n",
    "    fitness = np.sum([np.sum(r) for r in rewards_list])\n",
    "    \n",
    "    return fitness\n",
    "\n",
    "best = evo.best_of_gens[-1]\n",
    "\n",
    "print(best.get_readable_repr())\n",
    "print(get_test_score(best))"
   ]
  },
  {
   "cell_type": "markdown",
   "metadata": {},
   "source": [
    "## Make an animation\n",
    "Here the best evolved individual is selected and one episode is rendered. Make sure to save your lunar landers over time to track progress and make comparisons."
   ]
  },
  {
   "cell_type": "code",
   "execution_count": null,
   "metadata": {},
   "outputs": [],
   "source": [
    "frames = []\n",
    "\n",
    "# gist to save gif from https://gist.github.com/botforge/64cbb71780e6208172bbf03cd9293553\n",
    "def save_frames_as_gif(frames, path='./', filename='evolved_lander.gif'):\n",
    "  plt.figure(figsize=(frames[0].shape[1] / 72.0, frames[0].shape[0] / 72.0), dpi=72)\n",
    "  patch = plt.imshow(frames[0])\n",
    "  plt.axis('off')\n",
    "  def animate(i):\n",
    "      patch.set_data(frames[i])\n",
    "  anim = animation.FuncAnimation(plt.gcf(), animate, frames = len(frames), interval=50)\n",
    "  anim.save(path + filename, writer='imagemagick', fps=60)\n",
    "\n",
    "frames = []\n",
    "fitness_function_pt(best, num_episodes=1, episode_duration=500, render=True, ignore_done=False)\n",
    "env.close()\n",
    "save_frames_as_gif(frames)"
   ]
  },
  {
   "cell_type": "markdown",
   "metadata": {},
   "source": [
    "## Play animation"
   ]
  },
  {
   "cell_type": "markdown",
   "metadata": {},
   "source": [
    "<img src=\"evolved_lander.gif\" width=\"750\">"
   ]
  },
  {
   "cell_type": "markdown",
   "metadata": {},
   "source": [
    "## Optimisation\n",
    "The coefficients in the multi-tree aren't optimised. Here Q-learning (taken from https://pytorch.org/tutorials/intermediate/reinforcement_q_learning.html) is used to optimise the weights further. Incorporate coefficient optimisation in training your agent(s). Coefficient Optimisation can be expensive. Think about how often you want to optimise, when, which individuals etc."
   ]
  },
  {
   "cell_type": "code",
   "execution_count": null,
   "metadata": {},
   "outputs": [],
   "source": [
    "batch_size = 128\n",
    "GAMMA = 0.99\n",
    "\n",
    "constants = best.get_subtrees_consts()\n",
    "\n",
    "if len(constants)>0:\n",
    "  optimizer = optim.AdamW(constants, lr=1e-3, amsgrad=True)\n",
    "\n",
    "for _ in range(500):\n",
    "\n",
    "  if len(constants)>0 and len(evo.memory)>batch_size:\n",
    "    target_tree = copy.deepcopy(best)\n",
    "\n",
    "    transitions = evo.memory.sample(batch_size)\n",
    "    batch = Transition(*zip(*transitions))\n",
    "    \n",
    "    non_final_mask = torch.tensor(tuple(map(lambda s: s is not None,\n",
    "                                        batch.next_state)), dtype=torch.bool)\n",
    "\n",
    "    non_final_next_states = torch.cat([s for s in batch.next_state\n",
    "                                               if s is not None])\n",
    "    state_batch = torch.cat(batch.state)\n",
    "    action_batch = torch.cat(batch.action)\n",
    "    reward_batch = torch.cat(batch.reward)\n",
    "\n",
    "    state_action_values = best.get_output_pt(state_batch).gather(1, action_batch)\n",
    "    next_state_values = torch.zeros(batch_size, dtype=torch.float)\n",
    "    with torch.no_grad():\n",
    "      next_state_values[non_final_mask] = target_tree.get_output_pt(non_final_next_states).max(1)[0].float()\n",
    "\n",
    "    expected_state_action_values = (next_state_values * GAMMA) + reward_batch\n",
    "    \n",
    "    criterion = nn.SmoothL1Loss()\n",
    "    loss = criterion(state_action_values, expected_state_action_values.unsqueeze(1))\n",
    "   \n",
    "    # Optimize the model\n",
    "    optimizer.zero_grad()\n",
    "    loss.backward()\n",
    "    torch.nn.utils.clip_grad_value_(constants, 100)\n",
    "    optimizer.step()\n",
    "\n",
    "print(best.get_readable_repr())\n",
    "print(get_test_score(best))"
   ]
  },
  {
   "cell_type": "code",
   "execution_count": null,
   "metadata": {},
   "outputs": [],
   "source": [
    "frames = []\n",
    "fitness_function_pt(best, num_episodes=1, episode_duration=500, render=True, ignore_done=False)\n",
    "env.close()\n",
    "save_frames_as_gif(frames, filename='evolved_lander_RL.gif')"
   ]
  },
  {
   "cell_type": "markdown",
   "metadata": {},
   "source": [
    "<img src=\"evolved_lander_RL.gif\" width=\"750\">"
   ]
  }
 ],
 "metadata": {
  "kernelspec": {
   "display_name": ".venv",
   "language": "python",
   "name": "python3"
  },
  "language_info": {
   "codemirror_mode": {
    "name": "ipython",
    "version": 3
   },
   "file_extension": ".py",
   "mimetype": "text/x-python",
   "name": "python",
   "nbconvert_exporter": "python",
   "pygments_lexer": "ipython3",
   "version": "3.8.10"
  }
 },
 "nbformat": 4,
 "nbformat_minor": 4
}
