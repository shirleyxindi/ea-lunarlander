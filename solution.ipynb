{
 "cells": [
  {
   "cell_type": "markdown",
   "metadata": {},
   "source": [
    "# Evolving a Lunar Lander with differentiable Genetic Programming"
   ]
  },
  {
   "cell_type": "markdown",
   "metadata": {},
   "source": [
    "## Installation\n",
    "To install the required libraries run the command:"
   ]
  },
  {
   "cell_type": "code",
   "execution_count": 1,
   "metadata": {},
   "outputs": [
    {
     "name": "stdout",
     "output_type": "stream",
     "text": [
      "Defaulting to user installation because normal site-packages is not writeable\n",
      "Requirement already satisfied: pygame==2.1.0 in /home/mkhedr/.local/lib/python3.10/site-packages (from -r requirements.txt (line 1)) (2.1.0)\n",
      "Requirement already satisfied: pyglet==1.5.21 in /home/mkhedr/.local/lib/python3.10/site-packages (from -r requirements.txt (line 2)) (1.5.21)\n",
      "Requirement already satisfied: matplotlib in /usr/lib/python3/dist-packages (from -r requirements.txt (line 3)) (3.5.1)\n",
      "Requirement already satisfied: numpy in /usr/lib/python3/dist-packages (from -r requirements.txt (line 4)) (1.21.5)\n",
      "Requirement already satisfied: scikit-learn in /home/mkhedr/.local/lib/python3.10/site-packages (from -r requirements.txt (line 5)) (1.6.1)\n",
      "Requirement already satisfied: sympy>=1.9 in /home/mkhedr/.local/lib/python3.10/site-packages (from -r requirements.txt (line 6)) (1.14.0)\n",
      "Requirement already satisfied: joblib>=1.1.0 in /home/mkhedr/.local/lib/python3.10/site-packages (from -r requirements.txt (line 7)) (1.5.0)\n",
      "Requirement already satisfied: torch in /home/mkhedr/.local/lib/python3.10/site-packages (from -r requirements.txt (line 8)) (2.7.0)\n",
      "Requirement already satisfied: notebook in /home/mkhedr/.local/lib/python3.10/site-packages (from -r requirements.txt (line 9)) (7.4.2)\n",
      "Requirement already satisfied: swig in /home/mkhedr/.local/lib/python3.10/site-packages (from -r requirements.txt (line 10)) (4.3.1)\n",
      "Requirement already satisfied: gymnasium[box2d] in /home/mkhedr/.local/lib/python3.10/site-packages (from -r requirements.txt (line 11)) (0.26.3)\n",
      "Requirement already satisfied: scipy>=1.6.0 in /usr/lib/python3/dist-packages (from scikit-learn->-r requirements.txt (line 5)) (1.8.0)\n",
      "Requirement already satisfied: threadpoolctl>=3.1.0 in /home/mkhedr/.local/lib/python3.10/site-packages (from scikit-learn->-r requirements.txt (line 5)) (3.6.0)\n",
      "Requirement already satisfied: mpmath<1.4,>=1.1.0 in /home/mkhedr/.local/lib/python3.10/site-packages (from sympy>=1.9->-r requirements.txt (line 6)) (1.3.0)\n",
      "Requirement already satisfied: nvidia-cufile-cu12==1.11.1.6 in /home/mkhedr/.local/lib/python3.10/site-packages (from torch->-r requirements.txt (line 8)) (1.11.1.6)\n",
      "Requirement already satisfied: nvidia-cuda-cupti-cu12==12.6.80 in /home/mkhedr/.local/lib/python3.10/site-packages (from torch->-r requirements.txt (line 8)) (12.6.80)\n",
      "Requirement already satisfied: nvidia-cusparselt-cu12==0.6.3 in /home/mkhedr/.local/lib/python3.10/site-packages (from torch->-r requirements.txt (line 8)) (0.6.3)\n",
      "Requirement already satisfied: nvidia-cuda-nvrtc-cu12==12.6.77 in /home/mkhedr/.local/lib/python3.10/site-packages (from torch->-r requirements.txt (line 8)) (12.6.77)\n",
      "Requirement already satisfied: jinja2 in /usr/lib/python3/dist-packages (from torch->-r requirements.txt (line 8)) (3.0.3)\n",
      "Requirement already satisfied: triton==3.3.0 in /home/mkhedr/.local/lib/python3.10/site-packages (from torch->-r requirements.txt (line 8)) (3.3.0)\n",
      "Requirement already satisfied: nvidia-cudnn-cu12==9.5.1.17 in /home/mkhedr/.local/lib/python3.10/site-packages (from torch->-r requirements.txt (line 8)) (9.5.1.17)\n",
      "Requirement already satisfied: nvidia-cublas-cu12==12.6.4.1 in /home/mkhedr/.local/lib/python3.10/site-packages (from torch->-r requirements.txt (line 8)) (12.6.4.1)\n",
      "Requirement already satisfied: fsspec in /home/mkhedr/.local/lib/python3.10/site-packages (from torch->-r requirements.txt (line 8)) (2025.5.0)\n",
      "Requirement already satisfied: filelock in /home/mkhedr/.local/lib/python3.10/site-packages (from torch->-r requirements.txt (line 8)) (3.18.0)\n",
      "Requirement already satisfied: nvidia-cufft-cu12==11.3.0.4 in /home/mkhedr/.local/lib/python3.10/site-packages (from torch->-r requirements.txt (line 8)) (11.3.0.4)\n",
      "Requirement already satisfied: nvidia-nvjitlink-cu12==12.6.85 in /home/mkhedr/.local/lib/python3.10/site-packages (from torch->-r requirements.txt (line 8)) (12.6.85)\n",
      "Requirement already satisfied: typing-extensions>=4.10.0 in /home/mkhedr/.local/lib/python3.10/site-packages (from torch->-r requirements.txt (line 8)) (4.13.2)\n",
      "Requirement already satisfied: nvidia-cusolver-cu12==11.7.1.2 in /home/mkhedr/.local/lib/python3.10/site-packages (from torch->-r requirements.txt (line 8)) (11.7.1.2)\n",
      "Requirement already satisfied: networkx in /home/mkhedr/.local/lib/python3.10/site-packages (from torch->-r requirements.txt (line 8)) (3.4.2)\n",
      "Requirement already satisfied: nvidia-cusparse-cu12==12.5.4.2 in /home/mkhedr/.local/lib/python3.10/site-packages (from torch->-r requirements.txt (line 8)) (12.5.4.2)\n",
      "Requirement already satisfied: nvidia-nccl-cu12==2.26.2 in /home/mkhedr/.local/lib/python3.10/site-packages (from torch->-r requirements.txt (line 8)) (2.26.2)\n",
      "Requirement already satisfied: nvidia-cuda-runtime-cu12==12.6.77 in /home/mkhedr/.local/lib/python3.10/site-packages (from torch->-r requirements.txt (line 8)) (12.6.77)\n",
      "Requirement already satisfied: nvidia-nvtx-cu12==12.6.77 in /home/mkhedr/.local/lib/python3.10/site-packages (from torch->-r requirements.txt (line 8)) (12.6.77)\n",
      "Requirement already satisfied: nvidia-curand-cu12==10.3.7.77 in /home/mkhedr/.local/lib/python3.10/site-packages (from torch->-r requirements.txt (line 8)) (10.3.7.77)\n",
      "Requirement already satisfied: setuptools>=40.8.0 in /usr/lib/python3/dist-packages (from triton==3.3.0->torch->-r requirements.txt (line 8)) (59.6.0)\n",
      "Requirement already satisfied: tornado>=6.2.0 in /home/mkhedr/.local/lib/python3.10/site-packages (from notebook->-r requirements.txt (line 9)) (6.5)\n",
      "Requirement already satisfied: jupyterlab-server<3,>=2.27.1 in /home/mkhedr/.local/lib/python3.10/site-packages (from notebook->-r requirements.txt (line 9)) (2.27.3)\n",
      "Requirement already satisfied: jupyterlab<4.5,>=4.4.0 in /home/mkhedr/.local/lib/python3.10/site-packages (from notebook->-r requirements.txt (line 9)) (4.4.2)\n",
      "Requirement already satisfied: jupyter-server<3,>=2.4.0 in /home/mkhedr/.local/lib/python3.10/site-packages (from notebook->-r requirements.txt (line 9)) (2.16.0)\n",
      "Requirement already satisfied: notebook-shim<0.3,>=0.2 in /home/mkhedr/.local/lib/python3.10/site-packages (from notebook->-r requirements.txt (line 9)) (0.2.4)\n",
      "Requirement already satisfied: cloudpickle>=1.2.0 in /home/mkhedr/.local/lib/python3.10/site-packages (from gymnasium[box2d]->-r requirements.txt (line 11)) (3.1.1)\n",
      "Requirement already satisfied: gymnasium-notices>=0.0.1 in /home/mkhedr/.local/lib/python3.10/site-packages (from gymnasium[box2d]->-r requirements.txt (line 11)) (0.0.1)\n",
      "Requirement already satisfied: box2d-py==2.3.5 in /home/mkhedr/.local/lib/python3.10/site-packages (from gymnasium[box2d]->-r requirements.txt (line 11)) (2.3.5)\n",
      "Requirement already satisfied: overrides>=5.0 in /home/mkhedr/.local/lib/python3.10/site-packages (from jupyter-server<3,>=2.4.0->notebook->-r requirements.txt (line 9)) (7.7.0)\n",
      "Requirement already satisfied: anyio>=3.1.0 in /home/mkhedr/.local/lib/python3.10/site-packages (from jupyter-server<3,>=2.4.0->notebook->-r requirements.txt (line 9)) (4.9.0)\n",
      "Requirement already satisfied: jupyter-core!=5.0.*,>=4.12 in /home/mkhedr/.local/lib/python3.10/site-packages (from jupyter-server<3,>=2.4.0->notebook->-r requirements.txt (line 9)) (5.7.2)\n",
      "Requirement already satisfied: argon2-cffi>=21.1 in /home/mkhedr/.local/lib/python3.10/site-packages (from jupyter-server<3,>=2.4.0->notebook->-r requirements.txt (line 9)) (23.1.0)\n",
      "Requirement already satisfied: jupyter-events>=0.11.0 in /home/mkhedr/.local/lib/python3.10/site-packages (from jupyter-server<3,>=2.4.0->notebook->-r requirements.txt (line 9)) (0.12.0)\n",
      "Requirement already satisfied: nbconvert>=6.4.4 in /home/mkhedr/.local/lib/python3.10/site-packages (from jupyter-server<3,>=2.4.0->notebook->-r requirements.txt (line 9)) (7.16.6)\n",
      "Requirement already satisfied: send2trash>=1.8.2 in /home/mkhedr/.local/lib/python3.10/site-packages (from jupyter-server<3,>=2.4.0->notebook->-r requirements.txt (line 9)) (1.8.3)\n",
      "Requirement already satisfied: traitlets>=5.6.0 in /home/mkhedr/.local/lib/python3.10/site-packages (from jupyter-server<3,>=2.4.0->notebook->-r requirements.txt (line 9)) (5.14.3)\n",
      "Requirement already satisfied: prometheus-client>=0.9 in /home/mkhedr/.local/lib/python3.10/site-packages (from jupyter-server<3,>=2.4.0->notebook->-r requirements.txt (line 9)) (0.22.0)\n",
      "Requirement already satisfied: jupyter-server-terminals>=0.4.4 in /home/mkhedr/.local/lib/python3.10/site-packages (from jupyter-server<3,>=2.4.0->notebook->-r requirements.txt (line 9)) (0.5.3)\n",
      "Requirement already satisfied: jupyter-client>=7.4.4 in /home/mkhedr/.local/lib/python3.10/site-packages (from jupyter-server<3,>=2.4.0->notebook->-r requirements.txt (line 9)) (8.6.3)\n",
      "Requirement already satisfied: nbformat>=5.3.0 in /home/mkhedr/.local/lib/python3.10/site-packages (from jupyter-server<3,>=2.4.0->notebook->-r requirements.txt (line 9)) (5.10.4)\n",
      "Requirement already satisfied: terminado>=0.8.3 in /home/mkhedr/.local/lib/python3.10/site-packages (from jupyter-server<3,>=2.4.0->notebook->-r requirements.txt (line 9)) (0.18.1)\n",
      "Requirement already satisfied: packaging>=22.0 in /home/mkhedr/.local/lib/python3.10/site-packages (from jupyter-server<3,>=2.4.0->notebook->-r requirements.txt (line 9)) (25.0)\n",
      "Requirement already satisfied: websocket-client>=1.7 in /home/mkhedr/.local/lib/python3.10/site-packages (from jupyter-server<3,>=2.4.0->notebook->-r requirements.txt (line 9)) (1.8.0)\n",
      "Requirement already satisfied: pyzmq>=24 in /home/mkhedr/.local/lib/python3.10/site-packages (from jupyter-server<3,>=2.4.0->notebook->-r requirements.txt (line 9)) (26.4.0)\n",
      "Requirement already satisfied: async-lru>=1.0.0 in /home/mkhedr/.local/lib/python3.10/site-packages (from jupyterlab<4.5,>=4.4.0->notebook->-r requirements.txt (line 9)) (2.0.5)\n",
      "Requirement already satisfied: jupyter-lsp>=2.0.0 in /home/mkhedr/.local/lib/python3.10/site-packages (from jupyterlab<4.5,>=4.4.0->notebook->-r requirements.txt (line 9)) (2.2.5)\n",
      "Requirement already satisfied: tomli>=1.2.2 in /home/mkhedr/.local/lib/python3.10/site-packages (from jupyterlab<4.5,>=4.4.0->notebook->-r requirements.txt (line 9)) (2.2.1)\n",
      "Requirement already satisfied: httpx>=0.25.0 in /home/mkhedr/.local/lib/python3.10/site-packages (from jupyterlab<4.5,>=4.4.0->notebook->-r requirements.txt (line 9)) (0.28.1)\n",
      "Requirement already satisfied: ipykernel>=6.5.0 in /home/mkhedr/.local/lib/python3.10/site-packages (from jupyterlab<4.5,>=4.4.0->notebook->-r requirements.txt (line 9)) (6.29.5)\n",
      "Requirement already satisfied: babel>=2.10 in /home/mkhedr/.local/lib/python3.10/site-packages (from jupyterlab-server<3,>=2.27.1->notebook->-r requirements.txt (line 9)) (2.17.0)\n",
      "Requirement already satisfied: jsonschema>=4.18.0 in /home/mkhedr/.local/lib/python3.10/site-packages (from jupyterlab-server<3,>=2.27.1->notebook->-r requirements.txt (line 9)) (4.23.0)\n",
      "Requirement already satisfied: json5>=0.9.0 in /home/mkhedr/.local/lib/python3.10/site-packages (from jupyterlab-server<3,>=2.27.1->notebook->-r requirements.txt (line 9)) (0.12.0)\n",
      "Requirement already satisfied: requests>=2.31 in /home/mkhedr/.local/lib/python3.10/site-packages (from jupyterlab-server<3,>=2.27.1->notebook->-r requirements.txt (line 9)) (2.32.3)\n",
      "Requirement already satisfied: idna>=2.8 in /usr/lib/python3/dist-packages (from anyio>=3.1.0->jupyter-server<3,>=2.4.0->notebook->-r requirements.txt (line 9)) (3.3)\n",
      "Requirement already satisfied: sniffio>=1.1 in /home/mkhedr/.local/lib/python3.10/site-packages (from anyio>=3.1.0->jupyter-server<3,>=2.4.0->notebook->-r requirements.txt (line 9)) (1.3.1)\n",
      "Requirement already satisfied: exceptiongroup>=1.0.2 in /home/mkhedr/.local/lib/python3.10/site-packages (from anyio>=3.1.0->jupyter-server<3,>=2.4.0->notebook->-r requirements.txt (line 9)) (1.3.0)\n",
      "Requirement already satisfied: argon2-cffi-bindings in /home/mkhedr/.local/lib/python3.10/site-packages (from argon2-cffi>=21.1->jupyter-server<3,>=2.4.0->notebook->-r requirements.txt (line 9)) (21.2.0)\n",
      "Requirement already satisfied: certifi in /usr/lib/python3/dist-packages (from httpx>=0.25.0->jupyterlab<4.5,>=4.4.0->notebook->-r requirements.txt (line 9)) (2020.6.20)\n",
      "Requirement already satisfied: httpcore==1.* in /home/mkhedr/.local/lib/python3.10/site-packages (from httpx>=0.25.0->jupyterlab<4.5,>=4.4.0->notebook->-r requirements.txt (line 9)) (1.0.9)\n",
      "Requirement already satisfied: h11>=0.16 in /home/mkhedr/.local/lib/python3.10/site-packages (from httpcore==1.*->httpx>=0.25.0->jupyterlab<4.5,>=4.4.0->notebook->-r requirements.txt (line 9)) (0.16.0)\n",
      "Requirement already satisfied: debugpy>=1.6.5 in /home/mkhedr/.local/lib/python3.10/site-packages (from ipykernel>=6.5.0->jupyterlab<4.5,>=4.4.0->notebook->-r requirements.txt (line 9)) (1.8.14)\n",
      "Requirement already satisfied: comm>=0.1.1 in /home/mkhedr/.local/lib/python3.10/site-packages (from ipykernel>=6.5.0->jupyterlab<4.5,>=4.4.0->notebook->-r requirements.txt (line 9)) (0.2.2)\n",
      "Requirement already satisfied: nest-asyncio in /home/mkhedr/.local/lib/python3.10/site-packages (from ipykernel>=6.5.0->jupyterlab<4.5,>=4.4.0->notebook->-r requirements.txt (line 9)) (1.6.0)\n",
      "Requirement already satisfied: matplotlib-inline>=0.1 in /home/mkhedr/.local/lib/python3.10/site-packages (from ipykernel>=6.5.0->jupyterlab<4.5,>=4.4.0->notebook->-r requirements.txt (line 9)) (0.1.7)\n",
      "Requirement already satisfied: ipython>=7.23.1 in /home/mkhedr/.local/lib/python3.10/site-packages (from ipykernel>=6.5.0->jupyterlab<4.5,>=4.4.0->notebook->-r requirements.txt (line 9)) (8.36.0)\n",
      "Requirement already satisfied: psutil in /usr/lib/python3/dist-packages (from ipykernel>=6.5.0->jupyterlab<4.5,>=4.4.0->notebook->-r requirements.txt (line 9)) (5.9.0)\n",
      "Requirement already satisfied: attrs>=22.2.0 in /home/mkhedr/.local/lib/python3.10/site-packages (from jsonschema>=4.18.0->jupyterlab-server<3,>=2.27.1->notebook->-r requirements.txt (line 9)) (25.3.0)\n",
      "Requirement already satisfied: rpds-py>=0.7.1 in /home/mkhedr/.local/lib/python3.10/site-packages (from jsonschema>=4.18.0->jupyterlab-server<3,>=2.27.1->notebook->-r requirements.txt (line 9)) (0.25.1)\n",
      "Requirement already satisfied: referencing>=0.28.4 in /home/mkhedr/.local/lib/python3.10/site-packages (from jsonschema>=4.18.0->jupyterlab-server<3,>=2.27.1->notebook->-r requirements.txt (line 9)) (0.36.2)\n",
      "Requirement already satisfied: jsonschema-specifications>=2023.03.6 in /home/mkhedr/.local/lib/python3.10/site-packages (from jsonschema>=4.18.0->jupyterlab-server<3,>=2.27.1->notebook->-r requirements.txt (line 9)) (2025.4.1)\n",
      "Requirement already satisfied: python-dateutil>=2.8.2 in /home/mkhedr/.local/lib/python3.10/site-packages (from jupyter-client>=7.4.4->jupyter-server<3,>=2.4.0->notebook->-r requirements.txt (line 9)) (2.9.0.post0)\n",
      "Requirement already satisfied: platformdirs>=2.5 in /home/mkhedr/.local/lib/python3.10/site-packages (from jupyter-core!=5.0.*,>=4.12->jupyter-server<3,>=2.4.0->notebook->-r requirements.txt (line 9)) (4.3.8)\n",
      "Requirement already satisfied: pyyaml>=5.3 in /usr/lib/python3/dist-packages (from jupyter-events>=0.11.0->jupyter-server<3,>=2.4.0->notebook->-r requirements.txt (line 9)) (5.4.1)\n",
      "Requirement already satisfied: rfc3986-validator>=0.1.1 in /home/mkhedr/.local/lib/python3.10/site-packages (from jupyter-events>=0.11.0->jupyter-server<3,>=2.4.0->notebook->-r requirements.txt (line 9)) (0.1.1)\n",
      "Requirement already satisfied: rfc3339-validator in /home/mkhedr/.local/lib/python3.10/site-packages (from jupyter-events>=0.11.0->jupyter-server<3,>=2.4.0->notebook->-r requirements.txt (line 9)) (0.1.4)\n",
      "Requirement already satisfied: python-json-logger>=2.0.4 in /home/mkhedr/.local/lib/python3.10/site-packages (from jupyter-events>=0.11.0->jupyter-server<3,>=2.4.0->notebook->-r requirements.txt (line 9)) (3.3.0)\n",
      "Requirement already satisfied: beautifulsoup4 in /usr/lib/python3/dist-packages (from nbconvert>=6.4.4->jupyter-server<3,>=2.4.0->notebook->-r requirements.txt (line 9)) (4.10.0)\n",
      "Requirement already satisfied: pandocfilters>=1.4.1 in /home/mkhedr/.local/lib/python3.10/site-packages (from nbconvert>=6.4.4->jupyter-server<3,>=2.4.0->notebook->-r requirements.txt (line 9)) (1.5.1)\n",
      "Requirement already satisfied: bleach[css]!=5.0.0 in /home/mkhedr/.local/lib/python3.10/site-packages (from nbconvert>=6.4.4->jupyter-server<3,>=2.4.0->notebook->-r requirements.txt (line 9)) (6.2.0)\n",
      "Requirement already satisfied: mistune<4,>=2.0.3 in /home/mkhedr/.local/lib/python3.10/site-packages (from nbconvert>=6.4.4->jupyter-server<3,>=2.4.0->notebook->-r requirements.txt (line 9)) (3.1.3)\n",
      "Requirement already satisfied: defusedxml in /home/mkhedr/.local/lib/python3.10/site-packages (from nbconvert>=6.4.4->jupyter-server<3,>=2.4.0->notebook->-r requirements.txt (line 9)) (0.7.1)\n",
      "Requirement already satisfied: nbclient>=0.5.0 in /home/mkhedr/.local/lib/python3.10/site-packages (from nbconvert>=6.4.4->jupyter-server<3,>=2.4.0->notebook->-r requirements.txt (line 9)) (0.10.2)\n",
      "Requirement already satisfied: pygments>=2.4.1 in /usr/lib/python3/dist-packages (from nbconvert>=6.4.4->jupyter-server<3,>=2.4.0->notebook->-r requirements.txt (line 9)) (2.11.2)\n",
      "Requirement already satisfied: jupyterlab-pygments in /home/mkhedr/.local/lib/python3.10/site-packages (from nbconvert>=6.4.4->jupyter-server<3,>=2.4.0->notebook->-r requirements.txt (line 9)) (0.3.0)\n",
      "Requirement already satisfied: markupsafe>=2.0 in /usr/lib/python3/dist-packages (from nbconvert>=6.4.4->jupyter-server<3,>=2.4.0->notebook->-r requirements.txt (line 9)) (2.0.1)\n",
      "Requirement already satisfied: fastjsonschema>=2.15 in /home/mkhedr/.local/lib/python3.10/site-packages (from nbformat>=5.3.0->jupyter-server<3,>=2.4.0->notebook->-r requirements.txt (line 9)) (2.21.1)\n",
      "Requirement already satisfied: urllib3<3,>=1.21.1 in /usr/lib/python3/dist-packages (from requests>=2.31->jupyterlab-server<3,>=2.27.1->notebook->-r requirements.txt (line 9)) (1.26.5)\n",
      "Requirement already satisfied: charset-normalizer<4,>=2 in /home/mkhedr/.local/lib/python3.10/site-packages (from requests>=2.31->jupyterlab-server<3,>=2.27.1->notebook->-r requirements.txt (line 9)) (3.4.2)\n",
      "Requirement already satisfied: ptyprocess in /usr/lib/python3/dist-packages (from terminado>=0.8.3->jupyter-server<3,>=2.4.0->notebook->-r requirements.txt (line 9)) (0.7.0)\n",
      "Requirement already satisfied: webencodings in /usr/lib/python3/dist-packages (from bleach[css]!=5.0.0->nbconvert>=6.4.4->jupyter-server<3,>=2.4.0->notebook->-r requirements.txt (line 9)) (0.5.1)\n",
      "Requirement already satisfied: tinycss2<1.5,>=1.1.0 in /home/mkhedr/.local/lib/python3.10/site-packages (from bleach[css]!=5.0.0->nbconvert>=6.4.4->jupyter-server<3,>=2.4.0->notebook->-r requirements.txt (line 9)) (1.4.0)\n",
      "Requirement already satisfied: prompt_toolkit<3.1.0,>=3.0.41 in /home/mkhedr/.local/lib/python3.10/site-packages (from ipython>=7.23.1->ipykernel>=6.5.0->jupyterlab<4.5,>=4.4.0->notebook->-r requirements.txt (line 9)) (3.0.51)\n",
      "Requirement already satisfied: jedi>=0.16 in /home/mkhedr/.local/lib/python3.10/site-packages (from ipython>=7.23.1->ipykernel>=6.5.0->jupyterlab<4.5,>=4.4.0->notebook->-r requirements.txt (line 9)) (0.19.2)\n",
      "Requirement already satisfied: stack_data in /home/mkhedr/.local/lib/python3.10/site-packages (from ipython>=7.23.1->ipykernel>=6.5.0->jupyterlab<4.5,>=4.4.0->notebook->-r requirements.txt (line 9)) (0.6.3)\n",
      "Requirement already satisfied: pexpect>4.3 in /usr/lib/python3/dist-packages (from ipython>=7.23.1->ipykernel>=6.5.0->jupyterlab<4.5,>=4.4.0->notebook->-r requirements.txt (line 9)) (4.8.0)\n",
      "Requirement already satisfied: decorator in /usr/lib/python3/dist-packages (from ipython>=7.23.1->ipykernel>=6.5.0->jupyterlab<4.5,>=4.4.0->notebook->-r requirements.txt (line 9)) (4.4.2)\n",
      "Requirement already satisfied: isoduration in /home/mkhedr/.local/lib/python3.10/site-packages (from jsonschema>=4.18.0->jupyterlab-server<3,>=2.27.1->notebook->-r requirements.txt (line 9)) (20.11.0)\n",
      "Requirement already satisfied: jsonpointer>1.13 in /home/mkhedr/.local/lib/python3.10/site-packages (from jsonschema>=4.18.0->jupyterlab-server<3,>=2.27.1->notebook->-r requirements.txt (line 9)) (3.0.0)\n",
      "Requirement already satisfied: webcolors>=24.6.0 in /home/mkhedr/.local/lib/python3.10/site-packages (from jsonschema>=4.18.0->jupyterlab-server<3,>=2.27.1->notebook->-r requirements.txt (line 9)) (24.11.1)\n",
      "Requirement already satisfied: fqdn in /home/mkhedr/.local/lib/python3.10/site-packages (from jsonschema>=4.18.0->jupyterlab-server<3,>=2.27.1->notebook->-r requirements.txt (line 9)) (1.5.1)\n",
      "Requirement already satisfied: uri-template in /home/mkhedr/.local/lib/python3.10/site-packages (from jsonschema>=4.18.0->jupyterlab-server<3,>=2.27.1->notebook->-r requirements.txt (line 9)) (1.3.0)\n",
      "Requirement already satisfied: six>=1.5 in /usr/lib/python3/dist-packages (from python-dateutil>=2.8.2->jupyter-client>=7.4.4->jupyter-server<3,>=2.4.0->notebook->-r requirements.txt (line 9)) (1.16.0)\n",
      "Requirement already satisfied: cffi>=1.0.1 in /home/mkhedr/.local/lib/python3.10/site-packages (from argon2-cffi-bindings->argon2-cffi>=21.1->jupyter-server<3,>=2.4.0->notebook->-r requirements.txt (line 9)) (1.17.1)\n",
      "Requirement already satisfied: pycparser in /home/mkhedr/.local/lib/python3.10/site-packages (from cffi>=1.0.1->argon2-cffi-bindings->argon2-cffi>=21.1->jupyter-server<3,>=2.4.0->notebook->-r requirements.txt (line 9)) (2.22)\n",
      "Requirement already satisfied: parso<0.9.0,>=0.8.4 in /home/mkhedr/.local/lib/python3.10/site-packages (from jedi>=0.16->ipython>=7.23.1->ipykernel>=6.5.0->jupyterlab<4.5,>=4.4.0->notebook->-r requirements.txt (line 9)) (0.8.4)\n",
      "Requirement already satisfied: wcwidth in /home/mkhedr/.local/lib/python3.10/site-packages (from prompt_toolkit<3.1.0,>=3.0.41->ipython>=7.23.1->ipykernel>=6.5.0->jupyterlab<4.5,>=4.4.0->notebook->-r requirements.txt (line 9)) (0.2.13)\n",
      "Requirement already satisfied: arrow>=0.15.0 in /home/mkhedr/.local/lib/python3.10/site-packages (from isoduration->jsonschema>=4.18.0->jupyterlab-server<3,>=2.27.1->notebook->-r requirements.txt (line 9)) (1.3.0)\n",
      "Requirement already satisfied: executing>=1.2.0 in /home/mkhedr/.local/lib/python3.10/site-packages (from stack_data->ipython>=7.23.1->ipykernel>=6.5.0->jupyterlab<4.5,>=4.4.0->notebook->-r requirements.txt (line 9)) (2.2.0)\n",
      "Requirement already satisfied: asttokens>=2.1.0 in /home/mkhedr/.local/lib/python3.10/site-packages (from stack_data->ipython>=7.23.1->ipykernel>=6.5.0->jupyterlab<4.5,>=4.4.0->notebook->-r requirements.txt (line 9)) (3.0.0)\n",
      "Requirement already satisfied: pure-eval in /home/mkhedr/.local/lib/python3.10/site-packages (from stack_data->ipython>=7.23.1->ipykernel>=6.5.0->jupyterlab<4.5,>=4.4.0->notebook->-r requirements.txt (line 9)) (0.2.3)\n",
      "Requirement already satisfied: types-python-dateutil>=2.8.10 in /home/mkhedr/.local/lib/python3.10/site-packages (from arrow>=0.15.0->isoduration->jsonschema>=4.18.0->jupyterlab-server<3,>=2.27.1->notebook->-r requirements.txt (line 9)) (2.9.0.20250516)\n"
     ]
    }
   ],
   "source": [
    "!pip install -r requirements.txt"
   ]
  },
  {
   "cell_type": "markdown",
   "metadata": {},
   "source": [
    "## Imports\n",
    "Imports from the standard genepro-multi library are done here. Any adjustments (e.g. different operators) should be made in the notebook. For example:\n",
    "\n",
    "```\n",
    "class SmoothOperator(Node):\n",
    "  def __init__(self):\n",
    "    super(SmoothOperator,self).__init__()\n",
    "    self.arity = 1\n",
    "    self.symb = \"SmoothOperator\"\n",
    "\n",
    "  def _get_args_repr(self, args):\n",
    "    return self._get_typical_repr(args,'before')\n",
    "\n",
    "  def get_output(self, X):\n",
    "    c_outs = self._get_child_outputs(X)\n",
    "    return np.smoothOperation(c_outs[0])\n",
    "\n",
    "  def get_output_pt(self, X):\n",
    "    c_outs = self._get_child_outputs_pt(X)\n",
    "    return torch.smoothOperation(c_outs[0])\n",
    "```"
   ]
  },
  {
   "cell_type": "code",
   "execution_count": 1,
   "metadata": {},
   "outputs": [],
   "source": [
    "import gymnasium as gym\n",
    "\n",
    "from genepro.node_impl import *\n",
    "from genepro.evo import Evolution\n",
    "from genepro.node_impl import Constant\n",
    "\n",
    "import torch\n",
    "import torch.optim as optim\n",
    "\n",
    "import random\n",
    "import os\n",
    "import copy\n",
    "from collections import namedtuple, deque\n",
    "\n",
    "import matplotlib.pyplot as plt\n",
    "from matplotlib import animation"
   ]
  },
  {
   "cell_type": "markdown",
   "metadata": {},
   "source": [
    "## Reinforcement Learning Setup\n",
    "Here we first setup the Gymnasium environment. Please see https://gymnasium.farama.org/environments/box2d/lunar_lander/ for more information on the environment. \n",
    "\n",
    "Then a memory buffer is made. This is a buffer in which state transitions are stored. When the buffer reaches its maximum capacity old transitions are replaced by new ones.\n",
    "\n",
    "A frame buffer is initialised used to later store animation frames of the environment."
   ]
  },
  {
   "cell_type": "code",
   "execution_count": 2,
   "metadata": {},
   "outputs": [],
   "source": [
    "env = gym.make(\"LunarLander-v2\", render_mode=\"rgb_array\")"
   ]
  },
  {
   "cell_type": "code",
   "execution_count": 3,
   "metadata": {},
   "outputs": [],
   "source": [
    "Transition = namedtuple('Transition', ('state', 'action', 'next_state', 'reward'))\n",
    "\n",
    "class ReplayMemory(object):\n",
    "    def __init__(self, capacity):\n",
    "        self.memory = deque([], maxlen=capacity)\n",
    "\n",
    "    def push(self, *args):\n",
    "        \"\"\"Save a transition\"\"\"\n",
    "        self.memory.append(Transition(*args))\n",
    "\n",
    "    def sample(self, batch_size):\n",
    "        return random.sample(self.memory, batch_size)\n",
    "\n",
    "    def __len__(self):\n",
    "        return len(self.memory)\n",
    "\n",
    "    def __iadd__(self, other):\n",
    "      self.memory += other.memory\n",
    "      return self \n",
    "\n",
    "    def __add__(self, other):\n",
    "      self.memory = self.memory + other.memory \n",
    "      return self"
   ]
  },
  {
   "cell_type": "code",
   "execution_count": 4,
   "metadata": {},
   "outputs": [],
   "source": [
    "frames = []"
   ]
  },
  {
   "cell_type": "markdown",
   "metadata": {},
   "source": [
    "## Fitness Function\n",
    "\n",
    "Here you get to be creative. The default setup evaluates 5 episodes of 300 frames. Think of what action to pick and what fitness function to use. The Multi-tree takes an input of $n \\times d$ where $n$ is a batch of size 1."
   ]
  },
  {
   "cell_type": "markdown",
   "metadata": {},
   "source": [
    "### Baseline"
   ]
  },
  {
   "cell_type": "code",
   "execution_count": 26,
   "metadata": {},
   "outputs": [],
   "source": [
    "def fitness_function_pt(multitree, num_episodes=5, episode_duration=300, render=False, ignore_done=False):\n",
    "  memory = ReplayMemory(10000)\n",
    "  rewards = []\n",
    "\n",
    "  for _ in range(num_episodes):\n",
    "    # get initial state of the environment\n",
    "    observation = env.reset()\n",
    "    observation = observation[0]\n",
    "    \n",
    "    for _ in range(episode_duration):\n",
    "      if render:\n",
    "        frames.append(env.render())\n",
    "\n",
    "      input_sample = torch.from_numpy(observation.reshape((1,-1))).float()\n",
    "      \n",
    "      # what goes here? TODO\n",
    "      action = torch.argmax(multitree.get_output_pt(input_sample))\n",
    "      observation, reward, terminated, truncated, info = env.step(action.item())\n",
    "      rewards.append(reward)\n",
    "      output_sample = torch.from_numpy(observation.reshape((1,-1))).float()\n",
    "      memory.push(input_sample, torch.tensor([[action.item()]]), output_sample, torch.tensor([reward]))\n",
    "      if (terminated or truncated) and not ignore_done:\n",
    "        break\n",
    "\n",
    "  fitness = np.sum(rewards)\n",
    "  \n",
    "  return fitness, memory"
   ]
  },
  {
   "cell_type": "markdown",
   "metadata": {},
   "source": [
    "### Fitness Function with Success Bonus and Crash Penalty (MKhedr)"
   ]
  },
  {
   "cell_type": "code",
   "execution_count": 18,
   "metadata": {},
   "outputs": [],
   "source": [
    "def fitness_function_pt(multitree, num_episodes=5, episode_duration=300, render=False, ignore_done=False):\n",
    "    memory = ReplayMemory(10000)\n",
    "    rewards = []\n",
    "\n",
    "    for _ in range(num_episodes):\n",
    "        observation = env.reset()[0]\n",
    "\n",
    "        ep_reward = 0\n",
    "        for _ in range(episode_duration):\n",
    "            if render:\n",
    "                frames.append(env.render())\n",
    "\n",
    "            input_sample = torch.from_numpy(observation.reshape((1, -1))).float()\n",
    "            action_scores = multitree.get_output_pt(input_sample)\n",
    "            action = action_scores.argmax(dim=1)\n",
    "\n",
    "            observation, reward, terminated, truncated, info = env.step(action.item())\n",
    "            ep_reward += reward\n",
    "\n",
    "            output_sample = torch.from_numpy(observation.reshape((1, -1))).float()\n",
    "            memory.push(input_sample, torch.tensor([action.item()]), output_sample, torch.tensor([reward]))\n",
    "\n",
    "            if (terminated or truncated) and not ignore_done:\n",
    "                break\n",
    "\n",
    "        # -----------------------------------------\n",
    "        if ep_reward > 200:\n",
    "            ep_reward += 100  # Solved\n",
    "        elif terminated:\n",
    "            ep_reward -= 100  # Crash\n",
    "        # -----------------------------------------\n",
    "\n",
    "        rewards.append(ep_reward)\n",
    "\n",
    "    fitness = np.sum(rewards)\n",
    "    return fitness, memory\n"
   ]
  },
  {
   "cell_type": "markdown",
   "metadata": {},
   "source": [
    "## Evolution Setup\n",
    "Here the leaf and internal nodes are defined. Think about the odds of sampling a constant in this default configurations. Also think about any operators that could be useful and add them here. \n",
    "\n",
    "Adjust the population size (multiple of 8 if you want to use the standard tournament selection), max generations and max tree size to taste. Be aware that each of these settings can increase the runtime."
   ]
  },
  {
   "cell_type": "code",
   "execution_count": 27,
   "metadata": {},
   "outputs": [],
   "source": [
    "num_features = env.observation_space.shape[0]\n",
    "leaf_nodes = [Feature(i) for i in range(num_features)]\n",
    "leaf_nodes = leaf_nodes + [Constant()] # Think about the probability of sampling a coefficient\n",
    "internal_nodes = [Plus(),Minus(),Times(),Div()] #Add your own operators here\n",
    "\n",
    "evo = Evolution(\n",
    "  fitness_function_pt, internal_nodes, leaf_nodes,\n",
    "  4,\n",
    "  pop_size=16,\n",
    "  max_gens=10,\n",
    "  max_tree_size=31,\n",
    "  n_jobs=8,\n",
    "  verbose=True)"
   ]
  },
  {
   "cell_type": "markdown",
   "metadata": {},
   "source": [
    "## Evolve\n",
    "Running this cell will use all the settings above as parameters"
   ]
  },
  {
   "cell_type": "code",
   "execution_count": 28,
   "metadata": {},
   "outputs": [
    {
     "name": "stdout",
     "output_type": "stream",
     "text": [
      "gen: 1,\tbest of gen fitness: -924.319,\tbest of gen size: 27\n",
      "gen: 2,\tbest of gen fitness: -466.480,\tbest of gen size: 27\n",
      "gen: 3,\tbest of gen fitness: -393.855,\tbest of gen size: 27\n",
      "gen: 4,\tbest of gen fitness: -528.438,\tbest of gen size: 27\n",
      "gen: 5,\tbest of gen fitness: -593.217,\tbest of gen size: 27\n",
      "gen: 6,\tbest of gen fitness: -657.188,\tbest of gen size: 31\n",
      "gen: 7,\tbest of gen fitness: -473.210,\tbest of gen size: 31\n",
      "gen: 8,\tbest of gen fitness: -372.225,\tbest of gen size: 27\n",
      "gen: 9,\tbest of gen fitness: -554.933,\tbest of gen size: 25\n",
      "gen: 10,\tbest of gen fitness: -552.165,\tbest of gen size: 31\n"
     ]
    }
   ],
   "source": [
    "evo.evolve()"
   ]
  },
  {
   "cell_type": "markdown",
   "metadata": {},
   "source": [
    "# Test"
   ]
  },
  {
   "cell_type": "code",
   "execution_count": 21,
   "metadata": {},
   "outputs": [
    {
     "name": "stdout",
     "output_type": "stream",
     "text": [
      "['((((x_2+x_4)-x_3)/(x_0+(x_1-x_6)))*(x_3*((x_7-x_1)+(x_1/x_1))))', '((x_3+x_0)-((2.546760238446929/x_5)+(x_6+(x_6/x_7))))', '((((x_3+x_0)/(x_1+-4.149971961975098))*((x_0-x_6)+x_0))-(((x_5/-4.113015174865723)-x_7)/x_3))', '((x_3+((x_7*x_3)+x_4))-((((-1.7389451538860343*x_2)-(x_2*x_1))*((x_4+x_3)*x_3))*((x_4+x_3)*x_3)))']\n",
      "-686.3457658282513\n"
     ]
    }
   ],
   "source": [
    "def get_test_score(tree):\n",
    "    rewards = []\n",
    "\n",
    "    for i in range(10):\n",
    "      # get initial state\n",
    "      observation = env.reset(seed=i)\n",
    "      observation = observation[0]\n",
    "\n",
    "      for _ in range(500):    \n",
    "        # build up the input sample for GP\n",
    "        input_sample = torch.from_numpy(observation.reshape((1,-1))).float()\n",
    "        # get output (squeezing because it is encapsulated in an array)\n",
    "        output = tree.get_output_pt(input_sample)\n",
    "        action = output.argmax(dim=1) # What goes here?\n",
    "        observation, reward, terminated, truncated, info = env.step(action.item())\n",
    "        rewards.append(reward)\n",
    "\n",
    "\n",
    "        output_sample = torch.from_numpy(observation.reshape((1,-1))).float()\n",
    "        if (terminated or truncated):\n",
    "            break\n",
    "\n",
    "    fitness = np.sum(rewards)\n",
    "    \n",
    "    return fitness\n",
    "\n",
    "best = evo.best_of_gens[-1]\n",
    "\n",
    "print(best.get_readable_repr())\n",
    "print(get_test_score(best))"
   ]
  },
  {
   "cell_type": "markdown",
   "metadata": {},
   "source": [
    "## Make an animation\n",
    "Here the best evolved individual is selected and one episode is rendered. Make sure to save your lunar landers over time to track progress and make comparisons."
   ]
  },
  {
   "cell_type": "code",
   "execution_count": 22,
   "metadata": {},
   "outputs": [
    {
     "name": "stderr",
     "output_type": "stream",
     "text": [
      "MovieWriter imagemagick unavailable; using Pillow instead.\n"
     ]
    },
    {
     "data": {
      "image/png": "[encoded data removed]",
      "text/plain": [
       "<Figure size 600x400 with 1 Axes>"
      ]
     },
     "metadata": {},
     "output_type": "display_data"
    }
   ],
   "source": [
    "frames = []\n",
    "\n",
    "# gist to save gif from https://gist.github.com/botforge/64cbb71780e6208172bbf03cd9293553\n",
    "def save_frames_as_gif(frames, path='./', filename='evolved_lander.gif'):\n",
    "  plt.figure(figsize=(frames[0].shape[1] / 72.0, frames[0].shape[0] / 72.0), dpi=72)\n",
    "  patch = plt.imshow(frames[0])\n",
    "  plt.axis('off')\n",
    "  def animate(i):\n",
    "      patch.set_data(frames[i])\n",
    "  anim = animation.FuncAnimation(plt.gcf(), animate, frames = len(frames), interval=50)\n",
    "  anim.save(path + filename, writer='imagemagick', fps=60)\n",
    "\n",
    "frames = []\n",
    "fitness_function_pt(best, num_episodes=1, episode_duration=500, render=True, ignore_done=False)\n",
    "env.close()\n",
    "save_frames_as_gif(frames)"
   ]
  },
  {
   "cell_type": "markdown",
   "metadata": {},
   "source": [
    "## Play animation"
   ]
  },
  {
   "cell_type": "markdown",
   "metadata": {},
   "source": [
    "<img src=\"evolved_lander.gif\" width=\"750\">"
   ]
  },
  {
   "cell_type": "markdown",
   "metadata": {},
   "source": [
    "## Optimisation\n",
    "The coefficients in the multi-tree aren't optimised. Here Q-learning (taken from https://pytorch.org/tutorials/intermediate/reinforcement_q_learning.html) is used to optimise the weights further. Incorporate coefficient optimisation in training your agent(s). Coefficient Optimisation can be expensive. Think about how often you want to optimise, when, which individuals etc."
   ]
  },
  {
   "cell_type": "code",
   "execution_count": 24,
   "metadata": {},
   "outputs": [
    {
     "name": "stdout",
     "output_type": "stream",
     "text": [
      "['((((x_2+x_4)-x_3)/(x_0+(x_1-x_6)))*(x_3*((x_7-x_1)+(x_1/x_1))))', '((x_3+x_0)-((2.2386243949241056/x_5)+(x_6+(x_6/x_7))))', '((((x_3+x_0)/(x_1+-4.161242961883545))*((x_0-x_6)+x_0))-(((x_5/-4.293399333953857)-x_7)/x_3))', '((x_3+((x_7*x_3)+x_4))-((((-1.3530699350921955*x_2)-(x_2*x_1))*((x_4+x_3)*x_3))*((x_4+x_3)*x_3)))']\n",
      "-708.9218867309359\n"
     ]
    }
   ],
   "source": [
    "batch_size = 128\n",
    "GAMMA = 0.99\n",
    "\n",
    "constants = best.get_subtrees_consts()\n",
    "\n",
    "if len(constants)>0:\n",
    "  optimizer = optim.AdamW(constants, lr=1e-3, amsgrad=True)\n",
    "\n",
    "for _ in range(500):\n",
    "\n",
    "  if len(constants)>0 and len(evo.memory)>batch_size:\n",
    "    target_tree = copy.deepcopy(best)\n",
    "\n",
    "    transitions = evo.memory.sample(batch_size)\n",
    "    batch = Transition(*zip(*transitions))\n",
    "    \n",
    "    non_final_mask = torch.tensor(tuple(map(lambda s: s is not None,\n",
    "                                        batch.next_state)), dtype=torch.bool)\n",
    "\n",
    "    non_final_next_states = torch.cat([s for s in batch.next_state\n",
    "                                               if s is not None])\n",
    "    state_batch = torch.cat(batch.state)\n",
    "    #action_batch = torch.cat(batch.action)\n",
    "    reward_batch = torch.cat(batch.reward)\n",
    "    action_batch = torch.cat(batch.action).unsqueeze(1)\n",
    "\n",
    "    state_action_values = best.get_output_pt(state_batch).gather(1, action_batch)\n",
    "    next_state_values = torch.zeros(batch_size, dtype=torch.float)\n",
    "    with torch.no_grad():\n",
    "      next_state_values[non_final_mask] = target_tree.get_output_pt(non_final_next_states).max(1)[0].float()\n",
    "\n",
    "    expected_state_action_values = (next_state_values * GAMMA) + reward_batch\n",
    "    \n",
    "    criterion = nn.SmoothL1Loss()\n",
    "    loss = criterion(state_action_values, expected_state_action_values.unsqueeze(1))\n",
    "   \n",
    "    # Optimize the model\n",
    "    optimizer.zero_grad()\n",
    "    loss.backward()\n",
    "    torch.nn.utils.clip_grad_value_(constants, 100)\n",
    "    optimizer.step()\n",
    "\n",
    "print(best.get_readable_repr())\n",
    "print(get_test_score(best))"
   ]
  },
  {
   "cell_type": "code",
   "execution_count": 25,
   "metadata": {},
   "outputs": [
    {
     "name": "stderr",
     "output_type": "stream",
     "text": [
      "MovieWriter imagemagick unavailable; using Pillow instead.\n"
     ]
    },
    {
     "data": {
      "image/png": "[encoded data removed]",
      "text/plain": [
       "<Figure size 600x400 with 1 Axes>"
      ]
     },
     "metadata": {},
     "output_type": "display_data"
    }
   ],
   "source": [
    "frames = []\n",
    "fitness_function_pt(best, num_episodes=1, episode_duration=500, render=True, ignore_done=False)\n",
    "env.close()\n",
    "save_frames_as_gif(frames, filename='evolved_lander_RL.gif')"
   ]
  },
  {
   "cell_type": "markdown",
   "metadata": {},
   "source": [
    "<img src=\"evolved_lander_RL.gif\" width=\"750\">"
   ]
  }
 ],
 "metadata": {
  "kernelspec": {
   "display_name": "Python 3 (ipykernel)",
   "language": "python",
   "name": "python3"
  },
  "language_info": {
   "codemirror_mode": {
    "name": "ipython",
    "version": 3
   },
   "file_extension": ".py",
   "mimetype": "text/x-python",
   "name": "python",
   "nbconvert_exporter": "python",
   "pygments_lexer": "ipython3",
   "version": "3.10.12"
  }
 },
 "nbformat": 4,
 "nbformat_minor": 4
}
