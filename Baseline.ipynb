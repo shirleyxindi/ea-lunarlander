{
 "cells": [
  {
   "cell_type": "markdown",
   "metadata": {},
   "source": [
    "# Evolving a Lunar Lander with differentiable Genetic Programming"
   ]
  },
  {
   "cell_type": "markdown",
   "metadata": {},
   "source": [
    "## Installation\n",
    "To install the required libraries run the command:"
   ]
  },
  {
   "cell_type": "code",
   "execution_count": null,
   "metadata": {},
   "outputs": [],
   "source": [
    "!pip install -r requirements.txt"
   ]
  },
  {
   "cell_type": "markdown",
   "metadata": {},
   "source": [
    "## Imports\n",
    "Imports from the standard genepro-multi library are done here. Any adjustments (e.g. different operators) should be made in the notebook. For example:\n",
    "\n",
    "```\n",
    "class SmoothOperator(Node):\n",
    "  def __init__(self):\n",
    "    super(SmoothOperator,self).__init__()\n",
    "    self.arity = 1\n",
    "    self.symb = \"SmoothOperator\"\n",
    "\n",
    "  def _get_args_repr(self, args):\n",
    "    return self._get_typical_repr(args,'before')\n",
    "\n",
    "  def get_output(self, X):\n",
    "    c_outs = self._get_child_outputs(X)\n",
    "    return np.smoothOperation(c_outs[0])\n",
    "\n",
    "  def get_output_pt(self, X):\n",
    "    c_outs = self._get_child_outputs_pt(X)\n",
    "    return torch.smoothOperation(c_outs[0])\n",
    "```"
   ]
  },
  {
   "cell_type": "code",
   "metadata": {
    "ExecuteTime": {
     "end_time": "2025-06-05T10:25:49.252481Z",
     "start_time": "2025-06-05T10:25:44.204816Z"
    }
   },
   "source": [
    "import gymnasium as gym\n",
    "\n",
    "from genepro.node_impl import *\n",
    "from genepro.evo import Evolution\n",
    "from genepro.node_impl import Constant\n",
    "\n",
    "import torch\n",
    "import torch.optim as optim\n",
    "\n",
    "import random\n",
    "import os\n",
    "import copy\n",
    "from collections import namedtuple, deque\n",
    "\n",
    "import matplotlib.pyplot as plt\n",
    "from matplotlib import animation\n",
    "\n",
    "from datetime import datetime\n",
    "import time\n",
    "import csv"
   ],
   "outputs": [],
   "execution_count": 5
  },
  {
   "cell_type": "markdown",
   "metadata": {},
   "source": [
    "## Reinforcement Learning Setup\n",
    "Here we first setup the Gymnasium environment. Please see https://gymnasium.farama.org/environments/box2d/lunar_lander/ for more information on the environment. \n",
    "\n",
    "Then a memory buffer is made. This is a buffer in which state transitions are stored. When the buffer reaches its maximum capacity old transitions are replaced by new ones.\n",
    "\n",
    "A frame buffer is initialised used to later store animation frames of the environment."
   ]
  },
  {
   "cell_type": "code",
   "metadata": {
    "ExecuteTime": {
     "end_time": "2025-06-05T10:25:51.250261Z",
     "start_time": "2025-06-05T10:25:51.006625Z"
    }
   },
   "source": [
    "env = gym.make(\"LunarLander-v2\", render_mode=\"rgb_array\")"
   ],
   "outputs": [],
   "execution_count": 6
  },
  {
   "cell_type": "code",
   "metadata": {
    "ExecuteTime": {
     "end_time": "2025-06-05T10:25:58.506580Z",
     "start_time": "2025-06-05T10:25:58.483170Z"
    }
   },
   "source": [
    "Transition = namedtuple('Transition', ('state', 'action', 'next_state', 'reward'))\n",
    "\n",
    "class ReplayMemory(object):\n",
    "    def __init__(self, capacity):\n",
    "        self.memory = deque([], maxlen=capacity)\n",
    "\n",
    "    def push(self, *args):\n",
    "        \"\"\"Save a transition\"\"\"\n",
    "        self.memory.append(Transition(*args))\n",
    "\n",
    "    def sample(self, batch_size):\n",
    "        return random.sample(self.memory, batch_size)\n",
    "\n",
    "    def __len__(self):\n",
    "        return len(self.memory)\n",
    "\n",
    "    def __iadd__(self, other):\n",
    "      self.memory += other.memory\n",
    "      return self \n",
    "\n",
    "    def __add__(self, other):\n",
    "      self.memory = self.memory + other.memory \n",
    "      return self"
   ],
   "outputs": [],
   "execution_count": 7
  },
  {
   "cell_type": "code",
   "metadata": {
    "ExecuteTime": {
     "end_time": "2025-06-05T10:26:00.406571Z",
     "start_time": "2025-06-05T10:26:00.384533Z"
    }
   },
   "source": [
    "frames = []"
   ],
   "outputs": [],
   "execution_count": 8
  },
  {
   "cell_type": "markdown",
   "metadata": {},
   "source": [
    "## Fitness Function\n",
    "\n",
    "Here you get to be creative. The default setup evaluates 5 episodes of 300 frames. Think of what action to pick and what fitness function to use. The Multi-tree takes an input of $n \\times d$ where $n$ is a batch of size 1."
   ]
  },
  {
   "cell_type": "code",
   "metadata": {
    "ExecuteTime": {
     "end_time": "2025-06-05T10:26:02.600130Z",
     "start_time": "2025-06-05T10:26:02.582825Z"
    }
   },
   "source": [
    "def fitness_function_pt(multitree, num_episodes=5, episode_duration=300, render=False, ignore_done=False):\n",
    "  memory = ReplayMemory(10000)\n",
    "  rewards = []\n",
    "\n",
    "  for _ in range(num_episodes):\n",
    "    # get initial state of the environment\n",
    "    observation = env.reset()\n",
    "    observation = observation[0]\n",
    "    \n",
    "    for _ in range(episode_duration):\n",
    "      if render:\n",
    "        frames.append(env.render())\n",
    "\n",
    "      input_sample = torch.from_numpy(observation.reshape((1,-1))).float()\n",
    "      \n",
    "      # what goes here?\n",
    "      action =  torch.argmax(multitree.get_output_pt(input_sample))\n",
    "      observation, reward, terminated, truncated, info = env.step(action.item())\n",
    "      rewards.append(reward)\n",
    "      output_sample = torch.from_numpy(observation.reshape((1,-1))).float()\n",
    "      memory.push(input_sample, torch.tensor([[action.item()]]), output_sample, torch.tensor([reward]))\n",
    "      if (terminated or truncated) and not ignore_done:\n",
    "        break\n",
    "\n",
    "  fitness = np.sum(rewards)\n",
    "  \n",
    "  return fitness, memory"
   ],
   "outputs": [],
   "execution_count": 9
  },
  {
   "cell_type": "markdown",
   "metadata": {},
   "source": [
    "## Evolution Setup\n",
    "Here the leaf and internal nodes are defined. Think about the odds of sampling a constant in this default configurations. Also think about any operators that could be useful and add them here. \n",
    "\n",
    "Adjust the population size (multiple of 8 if you want to use the standard tournament selection), max generations and max tree size to taste. Be aware that each of these settings can increase the runtime."
   ]
  },
  {
   "cell_type": "code",
   "metadata": {
    "ExecuteTime": {
     "end_time": "2025-06-05T10:26:05.404933Z",
     "start_time": "2025-06-05T10:26:05.392933Z"
    }
   },
   "source": [
    "num_features = env.observation_space.shape[0]\n",
    "leaf_nodes = [Feature(i) for i in range(num_features)]\n",
    "leaf_nodes = leaf_nodes + [Constant()] # Think about the probability of sampling a coefficient\n",
    "internal_nodes = [Plus(),Minus(),Times(),Div()] #Add your own operators here\n",
    "\n",
    "evo = Evolution(\n",
    "  fitness_function_pt, internal_nodes, leaf_nodes,\n",
    "  4,\n",
    "  pop_size=8,\n",
    "  max_gens=10,\n",
    "  max_tree_size=20,\n",
    "  n_jobs=10,\n",
    "  verbose=True)"
   ],
   "outputs": [],
   "execution_count": 10
  },
  {
   "cell_type": "markdown",
   "metadata": {},
   "source": [
    "## Evolve\n",
    "Running this cell will use all the settings above as parameters"
   ]
  },
  {
   "cell_type": "code",
   "execution_count": null,
   "metadata": {},
   "outputs": [],
   "source": [
    "evo.evolve()"
   ]
  },
  {
   "metadata": {
    "ExecuteTime": {
     "end_time": "2025-06-05T12:14:25.499634Z",
     "start_time": "2025-06-05T12:11:28.677119Z"
    }
   },
   "cell_type": "code",
   "source": [
    "import pickle\n",
    "def run_baseline(repeats = 5):\n",
    "    num_features = env.observation_space.shape[0]\n",
    "    leaf_nodes = [Feature(i) for i in range(num_features)]\n",
    "    leaf_nodes = leaf_nodes + [Constant()] # Think about the probability of sampling a coefficient\n",
    "    internal_nodes = [Plus(),Minus(),Times(),Div()] #Add your own operators here\n",
    "    all_best_fitness = []\n",
    "    for i in range(repeats):\n",
    "        evo = Evolution(\n",
    "  fitness_function_pt, internal_nodes, leaf_nodes,\n",
    "  4,\n",
    "  pop_size=16,\n",
    "  max_gens=10,\n",
    "  max_tree_size=31,\n",
    "  n_jobs=8,\n",
    "  verbose=True)\n",
    "        evo.evolve()\n",
    "        best_fitness = [tree.fitness for tree in evo.best_of_gens]\n",
    "        all_best_fitness.append(best_fitness)\n",
    "        experiment_name = f\"baseline_{i}.pkl\"\n",
    "        experiment_path = os.path.join(\"experiments\", experiment_name)\n",
    "\n",
    "        if not os.path.exists(\"experiments\"):\n",
    "            os.makedirs(\"experiments\")\n",
    "\n",
    "        # save as pickle\n",
    "        with open(experiment_path, \"wb\") as f:\n",
    "          pickle.dump(evo, f)\n",
    "    return all_best_fitness\n",
    "all_best_fitness = run_baseline(repeats=5)\n",
    "mean_ftiness = np.mean(all_best_fitness, axis=0)\n",
    "std_fitness = np.std(all_best_fitness, axis=0)\n",
    "gens = np.arange(1,len(mean_ftiness)+1)\n",
    "plt.errorbar(gens, mean_ftiness, yerr=std_fitness, fmt='-o', label='Mean Fitness ± Std Dev')\n",
    "plt.xlabel('Generation')\n",
    "plt.ylabel('Fitness')\n",
    "plt.title('Baseline Evolution Performance')\n",
    "plt.legend()\n",
    "plt.grid()\n",
    "plt.show()\n",
    "plt.savefig('baseline_evolution_performance.png')"
   ],
   "outputs": [
    {
     "name": "stdout",
     "output_type": "stream",
     "text": [
      "gen: 1,\tbest of gen fitness: -546.202,\tbest of gen size: 29\n",
      "gen: 2,\tbest of gen fitness: -579.790,\tbest of gen size: 29\n",
      "gen: 3,\tbest of gen fitness: -538.868,\tbest of gen size: 29\n",
      "gen: 4,\tbest of gen fitness: -443.988,\tbest of gen size: 25\n",
      "gen: 5,\tbest of gen fitness: -488.275,\tbest of gen size: 25\n",
      "gen: 6,\tbest of gen fitness: -455.921,\tbest of gen size: 25\n",
      "gen: 7,\tbest of gen fitness: -471.834,\tbest of gen size: 25\n",
      "gen: 8,\tbest of gen fitness: -476.104,\tbest of gen size: 27\n",
      "gen: 9,\tbest of gen fitness: -504.137,\tbest of gen size: 25\n",
      "gen: 10,\tbest of gen fitness: -538.455,\tbest of gen size: 25\n",
      "gen: 1,\tbest of gen fitness: -581.739,\tbest of gen size: 31\n",
      "gen: 2,\tbest of gen fitness: -531.744,\tbest of gen size: 21\n",
      "gen: 3,\tbest of gen fitness: -485.779,\tbest of gen size: 31\n",
      "gen: 4,\tbest of gen fitness: -470.084,\tbest of gen size: 21\n",
      "gen: 5,\tbest of gen fitness: -585.392,\tbest of gen size: 27\n",
      "gen: 6,\tbest of gen fitness: -576.055,\tbest of gen size: 23\n",
      "gen: 7,\tbest of gen fitness: -507.685,\tbest of gen size: 23\n",
      "gen: 8,\tbest of gen fitness: -528.751,\tbest of gen size: 29\n",
      "gen: 9,\tbest of gen fitness: -581.785,\tbest of gen size: 25\n",
      "gen: 10,\tbest of gen fitness: -470.633,\tbest of gen size: 29\n",
      "gen: 1,\tbest of gen fitness: -518.129,\tbest of gen size: 23\n",
      "gen: 2,\tbest of gen fitness: -162.300,\tbest of gen size: 23\n",
      "gen: 3,\tbest of gen fitness: -63.456,\tbest of gen size: 25\n",
      "gen: 4,\tbest of gen fitness: 237.663,\tbest of gen size: 23\n",
      "gen: 5,\tbest of gen fitness: 218.844,\tbest of gen size: 23\n",
      "gen: 6,\tbest of gen fitness: 509.422,\tbest of gen size: 23\n",
      "gen: 7,\tbest of gen fitness: 331.122,\tbest of gen size: 23\n",
      "gen: 8,\tbest of gen fitness: 256.263,\tbest of gen size: 29\n",
      "gen: 9,\tbest of gen fitness: 235.959,\tbest of gen size: 23\n",
      "gen: 10,\tbest of gen fitness: 26.303,\tbest of gen size: 31\n",
      "gen: 1,\tbest of gen fitness: -549.712,\tbest of gen size: 29\n",
      "gen: 2,\tbest of gen fitness: -439.468,\tbest of gen size: 29\n",
      "gen: 3,\tbest of gen fitness: -491.828,\tbest of gen size: 23\n",
      "gen: 4,\tbest of gen fitness: -350.354,\tbest of gen size: 23\n",
      "gen: 5,\tbest of gen fitness: -352.778,\tbest of gen size: 23\n",
      "gen: 6,\tbest of gen fitness: -361.942,\tbest of gen size: 23\n",
      "gen: 7,\tbest of gen fitness: -348.606,\tbest of gen size: 23\n",
      "gen: 8,\tbest of gen fitness: -352.976,\tbest of gen size: 29\n",
      "gen: 9,\tbest of gen fitness: -318.018,\tbest of gen size: 23\n",
      "gen: 10,\tbest of gen fitness: -332.189,\tbest of gen size: 23\n",
      "gen: 1,\tbest of gen fitness: -620.543,\tbest of gen size: 31\n",
      "gen: 2,\tbest of gen fitness: -530.585,\tbest of gen size: 31\n",
      "gen: 3,\tbest of gen fitness: -547.102,\tbest of gen size: 31\n",
      "gen: 4,\tbest of gen fitness: -427.018,\tbest of gen size: 31\n",
      "gen: 5,\tbest of gen fitness: -519.591,\tbest of gen size: 31\n",
      "gen: 6,\tbest of gen fitness: -407.181,\tbest of gen size: 31\n",
      "gen: 7,\tbest of gen fitness: -498.318,\tbest of gen size: 31\n",
      "gen: 8,\tbest of gen fitness: -459.475,\tbest of gen size: 31\n",
      "gen: 9,\tbest of gen fitness: -521.689,\tbest of gen size: 27\n",
      "gen: 10,\tbest of gen fitness: -408.487,\tbest of gen size: 31\n"
     ]
    },
    {
     "data": {
      "text/plain": [
       "<Figure size 640x480 with 1 Axes>"
      ],
      "image/png": "[encoded data removed]"
     },
     "metadata": {},
     "output_type": "display_data"
    },
    {
     "data": {
      "text/plain": [
       "<Figure size 640x480 with 0 Axes>"
      ]
     },
     "metadata": {},
     "output_type": "display_data"
    }
   ],
   "execution_count": 15
  },
  {
   "cell_type": "markdown",
   "metadata": {},
   "source": [
    "# Test"
   ]
  },
  {
   "cell_type": "code",
   "execution_count": 7,
   "metadata": {},
   "outputs": [],
   "source": [
    "def get_test_score(tree):\n",
    "    rewards = []\n",
    "\n",
    "    for i in range(10):\n",
    "      # get initial state\n",
    "      observation = env.reset(seed=i)\n",
    "      observation = observation[0]\n",
    "\n",
    "      for _ in range(500):    \n",
    "        # build up the input sample for GP\n",
    "        input_sample = torch.from_numpy(observation.reshape((1,-1))).float()\n",
    "        # get output (squeezing because it is encapsulated in an array)\n",
    "        output = tree.get_output_pt(input_sample)\n",
    "        action = torch.argmax(output)# What goes here?\n",
    "        observation, reward, terminated, truncated, info = env.step(action.item())\n",
    "        rewards.append(reward)\n",
    "\n",
    "\n",
    "        output_sample = torch.from_numpy(observation.reshape((1,-1))).float()\n",
    "        if (terminated or truncated):\n",
    "            break\n",
    "\n",
    "    fitness = np.sum(rewards)\n",
    "    \n",
    "    return fitness\n",
    "\n",
    "#best = evo.best_of_gens[-1]\n",
    "#print(best.get_readable_repr())\n",
    "#print(get_test_score(best))"
   ]
  },
  {
   "cell_type": "markdown",
   "metadata": {},
   "source": [
    "## Make an animation\n",
    "Here the best evolved individual is selected and one episode is rendered. Make sure to save your lunar landers over time to track progress and make comparisons."
   ]
  },
  {
   "cell_type": "code",
   "execution_count": null,
   "metadata": {},
   "outputs": [],
   "source": [
    "frames = []\n",
    "\n",
    "# gist to save gif from https://gist.github.com/botforge/64cbb71780e6208172bbf03cd9293553\n",
    "def save_frames_as_gif(frames, path='./', filename='evolved_lander.gif'):\n",
    "  plt.figure(figsize=(frames[0].shape[1] / 72.0, frames[0].shape[0] / 72.0), dpi=72)\n",
    "  patch = plt.imshow(frames[0])\n",
    "  plt.axis('off')\n",
    "  def animate(i):\n",
    "      patch.set_data(frames[i])\n",
    "  anim = animation.FuncAnimation(plt.gcf(), animate, frames = len(frames), interval=50)\n",
    "  anim.save(path + filename, writer='imagemagick', fps=60)\n",
    "\n",
    "frames = []\n",
    "fitness_function_pt(best, num_episodes=1, episode_duration=500, render=True, ignore_done=False)\n",
    "env.close()\n",
    "save_frames_as_gif(frames)"
   ]
  },
  {
   "cell_type": "markdown",
   "metadata": {},
   "source": [
    "## Play animation"
   ]
  },
  {
   "cell_type": "markdown",
   "metadata": {},
   "source": [
    "<img src=\"evolved_lander.gif\" width=\"750\">"
   ]
  },
  {
   "cell_type": "markdown",
   "metadata": {},
   "source": [
    "## Optimisation\n",
    "The coefficients in the multi-tree aren't optimised. Here Q-learning (taken from https://pytorch.org/tutorials/intermediate/reinforcement_q_learning.html) is used to optimise the weights further. Incorporate coefficient optimisation in training your agent(s). Coefficient Optimisation can be expensive. Think about how often you want to optimise, when, which individuals etc."
   ]
  },
  {
   "cell_type": "code",
   "execution_count": null,
   "metadata": {},
   "outputs": [],
   "source": [
    "batch_size = 128\n",
    "GAMMA = 0.99\n",
    "\n",
    "constants = best.get_subtrees_consts()\n",
    "\n",
    "if len(constants)>0:\n",
    "  optimizer = optim.AdamW(constants, lr=1e-3, amsgrad=True)\n",
    "\n",
    "for _ in range(500):\n",
    "\n",
    "  if len(constants)>0 and len(evo.memory)>batch_size:\n",
    "    target_tree = copy.deepcopy(best)\n",
    "\n",
    "    transitions = evo.memory.sample(batch_size)\n",
    "    batch = Transition(*zip(*transitions))\n",
    "    \n",
    "    non_final_mask = torch.tensor(tuple(map(lambda s: s is not None,\n",
    "                                        batch.next_state)), dtype=torch.bool)\n",
    "\n",
    "    non_final_next_states = torch.cat([s for s in batch.next_state\n",
    "                                               if s is not None])\n",
    "    state_batch = torch.cat(batch.state)\n",
    "    action_batch = torch.cat(batch.action)\n",
    "    reward_batch = torch.cat(batch.reward)\n",
    "\n",
    "    state_action_values = best.get_output_pt(state_batch).gather(1, action_batch)\n",
    "    next_state_values = torch.zeros(batch_size, dtype=torch.float)\n",
    "    with torch.no_grad():\n",
    "      next_state_values[non_final_mask] = target_tree.get_output_pt(non_final_next_states).max(1)[0].float()\n",
    "\n",
    "    expected_state_action_values = (next_state_values * GAMMA) + reward_batch\n",
    "    \n",
    "    criterion = nn.SmoothL1Loss()\n",
    "    loss = criterion(state_action_values, expected_state_action_values.unsqueeze(1))\n",
    "   \n",
    "    # Optimize the model\n",
    "    optimizer.zero_grad()\n",
    "    loss.backward()\n",
    "    torch.nn.utils.clip_grad_value_(constants, 100)\n",
    "    optimizer.step()\n",
    "\n",
    "print(best.get_readable_repr())\n",
    "print(get_test_score(best))"
   ]
  },
  {
   "cell_type": "code",
   "execution_count": null,
   "metadata": {},
   "outputs": [],
   "source": [
    "frames = []\n",
    "fitness_function_pt(best, num_episodes=1, episode_duration=500, render=True, ignore_done=False)\n",
    "env.close()\n",
    "save_frames_as_gif(frames, filename='evolved_lander_RL.gif')"
   ]
  },
  {
   "cell_type": "markdown",
   "metadata": {},
   "source": [
    "<img src=\"evolved_lander_RL.gif\" width=\"750\">"
   ]
  }
 ],
 "metadata": {
  "kernelspec": {
   "display_name": "Python 3 (ipykernel)",
   "language": "python",
   "name": "python3"
  },
  "language_info": {
   "codemirror_mode": {
    "name": "ipython",
    "version": 3
   },
   "file_extension": ".py",
   "mimetype": "text/x-python",
   "name": "python",
   "nbconvert_exporter": "python",
   "pygments_lexer": "ipython3",
   "version": "3.10.12"
  }
 },
 "nbformat": 4,
 "nbformat_minor": 4
}
